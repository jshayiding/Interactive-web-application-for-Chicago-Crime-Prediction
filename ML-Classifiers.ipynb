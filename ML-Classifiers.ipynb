{
 "cells": [
  {
   "cell_type": "markdown",
   "metadata": {},
   "source": [
    "Crime Prizers ML Classification"
   ]
  },
  {
   "cell_type": "code",
   "execution_count": 26,
   "metadata": {},
   "outputs": [],
   "source": [
    "#Loading libraries\n",
    "import pandas as pd\n",
    "import numpy as np\n",
    "import matplotlib.pyplot as plt\n",
    "import sklearn\n",
    "import datetime\n",
    "from scipy import stats\n",
    "import seaborn as sns\n",
    "import re"
   ]
  },
  {
   "cell_type": "code",
   "execution_count": 2,
   "metadata": {},
   "outputs": [],
   "source": [
    "#Loading crime data along with preprocessing(similar to Jurat, to maintain consistency)\n",
    "crimes_2012 = pd.read_csv('Chicago_Crimes_2012_to_2017.csv', sep=',', error_bad_lines=False)\n",
    "crimes_2012.drop_duplicates(subset=['ID', 'Case Number', 'Date'], inplace=True)\n",
    "crimes_2012.drop(['Unnamed: 0','Case Number','IUCR','FBI Code','Updated On',\n",
    "                  'X Coordinate','Y Coordinate'], inplace = True, axis = 1)\n",
    "crimes_2012 = crimes_2012.dropna(axis = 0, how = 'any')\n",
    "\n",
    "## date conversion\n",
    "crimes_2012.Date = pd.to_datetime(crimes_2012.Date, format = '%m/%d/%Y %I:%M:%S %p')\n",
    "crimes_2012['Primary Type'] = pd.Categorical(crimes_2012['Primary Type'])\n",
    "crimes_2012['Description'] = pd.Categorical(crimes_2012['Description'])\n",
    "crimes_2012['Location Description'] = pd.Categorical(crimes_2012['Location Description'])\n",
    "crimes_2012['Primary Type']=crimes_2012['Primary Type'].apply(lambda x: re.sub(' ', '_', str(x)).lower())"
   ]
  },
  {
   "cell_type": "markdown",
   "metadata": {},
   "source": [
    "#Associating community area name to Crime data\n"
   ]
  },
  {
   "cell_type": "code",
   "execution_count": 3,
   "metadata": {},
   "outputs": [],
   "source": [
    "area_names = \"\"\"\n",
    "01\tRogers Park\t\n",
    "40\tWashington Park\n",
    "02\tWest Ridge\t\n",
    "41\tHyde Park\n",
    "03\tUptown\t\n",
    "42\tWoodlawn\n",
    "04\tLincoln Square\t\n",
    "43\tSouth Shore\n",
    "05\tNorth Center\t\n",
    "44\tChatham\n",
    "06\tLakeview\t\n",
    "45\tAvalon Park\n",
    "07\tLincoln Park\t\n",
    "46\tSouth Chicago\n",
    "08\tNear North Side\t\n",
    "47\tBurnside\n",
    "09\tEdison Park\t\n",
    "48\tCalumet Heights\n",
    "10\tNorwood Park\t\n",
    "49\tRoseland\n",
    "11\tJefferson Park\t\n",
    "50\tPullman\n",
    "12\tForest Glen\t\n",
    "51\tSouth Deering\n",
    "13\tNorth Park\t\n",
    "52\tEast Side\n",
    "14\tAlbany Park\t\n",
    "53\tWest Pullman\n",
    "15\tPortage Park\t\n",
    "54\tRiverdale\n",
    "16\tIrving Park\n",
    "55\tHegewisch\n",
    "17\tDunning\t\n",
    "56\tGarfield Ridge\n",
    "18\tMontclare\t\n",
    "57\tArcher Heights\n",
    "19\tBelmont Cragin\t\n",
    "58\tBrighton Park\n",
    "20\tHermosa\t\n",
    "59\tMcKinley Park\n",
    "21\tAvondale\t\n",
    "60\tBridgeport\n",
    "22\tLogan Square\t\n",
    "61\tNew City\n",
    "23\tHumboldt Park\t\n",
    "62\tWest Elsdon\n",
    "24\tWest Town\t\n",
    "63\tGage Park\n",
    "25\tAustin\t\n",
    "64\tClearing\n",
    "26\tWest Garfield Park \t\n",
    "65\tWest Lawn\n",
    "27\tEast Garfield Park\t\n",
    "66\tChicago Lawn\n",
    "28\tNear West Side\t\n",
    "67\tWest Englewood\n",
    "29\tNorth Lawndale\t\n",
    "68\tEnglewood\n",
    "30\tSouth Lawndale\t\n",
    "69\tGreater Grand Crossing\n",
    "31\tLower West Side\t\n",
    "70\tAshburn\n",
    "32\tLoop\t\n",
    "71\tAuburn Gresham\n",
    "33\tNear South Side\t\n",
    "72\tBeverly\n",
    "34\tArmour Square\t\n",
    "73\tWashington Heights\n",
    "35\tDouglas\t\n",
    "74\tMount Greenwood\n",
    "36\tOakland\t\n",
    "75\tMorgan Park\n",
    "37\tFuller Park\t\n",
    "76\tO'Hare\n",
    "38\tGrand Boulevard\t\n",
    "77\tEdgewater\n",
    "39\tKenwood\n",
    "\"\"\""
   ]
  },
  {
   "cell_type": "code",
   "execution_count": 27,
   "metadata": {},
   "outputs": [],
   "source": [
    "neighborhood_Map = \"\"\"\n",
    "Cabrini–Green\tNear North Side\t\n",
    "The Gold Coast\tNear North Side\t\n",
    "Goose Island\tNear North Side\t\n",
    "Magnificent Mile\tNear North Side\t\n",
    "Old Town\tNear North Side\t\n",
    "River North\tNear North Side\t\n",
    "River West\tNear North Side\t\n",
    "Streeterville\tNear North Side\t\n",
    "Loop\tLoop\t\n",
    "Near East Side\tLoop\t\n",
    "South Loop\tLoop\t\n",
    "West Loop Gate\tLoop\t\n",
    "Dearborn Park\tNear South Side\t\n",
    "Printer's Row\tNear South Side\t\n",
    "South Loop\tNear South Side\t\n",
    "Prairie Avenue Historic District\tNear South Side\t\n",
    "Horner Park\tNorth Center\t\n",
    "Roscoe Village\tNorth Center\t\n",
    "Boystown\tLake View\t\n",
    "Lake View East\tLake View\t\n",
    "Graceland West\tLake View\t\n",
    "South East Ravenswood\tLake View\t\n",
    "Wrigleyville\tLake View\t\n",
    "Old Town Triangle\tLincoln Park\n",
    "Park West\tLincoln Park\t\n",
    "Ranch Triangle\tLincoln Park\t\n",
    "Sheffield Neighbors\tLincoln Park\t\n",
    "Wrightwood Neighbors\tLincoln Park\t\n",
    "Belmont Gardens\tAvondale\t\n",
    "Chicago's Polish Village\tAvondale\t\n",
    "Kosciuszko Park\tAvondale\t\n",
    "Belmont Gardens\tLogan Square\t\n",
    "Bucktown\tLogan Square\t\n",
    "Kosciuszko Park\tLogan Square\t\n",
    "Palmer Square\tLogan Square\t\n",
    "East Rogers Park\tRogers Park\t\n",
    "Arcadia Terrace\tWest Ridge\t\n",
    "Peterson Park\tWest Ridge\t\n",
    "West Rogers Park\tWest Ridge\t\n",
    "Buena Park\tUptown\t\n",
    "Argyle Street\tUptown\t\n",
    "Margate Park\tUptown\t\n",
    "Sheridan Park\tUptown\t\n",
    "Ravenswood\tLincoln Square\t\n",
    "Ravenswood Gardens\tLincoln Square\t\n",
    "Rockwell Crossing\tLincoln Square\t\n",
    "Edison Park\tEdison Park\t\n",
    "Big Oaks\tNorwood Park\t\n",
    "Old Norwood Park\tNorwood Park\t\n",
    "Oriole Park\tNorwood Park\t\n",
    "Union Ridge\tNorwood Park\t\n",
    "Gladstone Park\tJefferson Park\t\n",
    "Edgebrook\tForest Glen\n",
    "Old Edgebrook\tForest Glen\t\n",
    "South Edgebrook\tForest Glen\t\n",
    "Sauganash\tForest Glen\t\n",
    "Wildwood\tForest Glen\t\n",
    "Brynford Park\tNorth Park\t\n",
    "Hollywood Park\tNorth Park\t\n",
    "River's Edge\tNorth Park\t\n",
    "Sauganash Woods\tNorth Park\t\n",
    "Mayfair\tAlbany Park\t\n",
    "North Mayfair\tAlbany Park\t\n",
    "Ravenswood Manor\tAlbany Park\t\n",
    "Schorsch Forest View\tO'Hare\t\n",
    "Andersonville\tEdgewater\t\n",
    "Edgewater Beach\tEdgewater\t\n",
    "Magnolia Glen\tEdgewater\t\n",
    "Lakewood/Balmoral\tEdgewater\t\n",
    "Belmont Central\tPortage Park\t\n",
    "Władysławowo\tPortage Park\t\n",
    "Six Corners\tPortage Park\t\n",
    "Avondale Gardens\tIrving Park\t\n",
    "Independence Park\tIrving Park\t\n",
    "Kilbourn Park\tIrving Park\t\n",
    "Little Cassubia\tIrving Park\t\n",
    "Old Irving Park\tIrving Park\t\n",
    "West Walker\tIrving Park\t\n",
    "The Villa\tIrving Park\t\n",
    "Belmont Heights\tDunning\t\n",
    "Belmont Terrace\tDunning\t\n",
    "Irving Woods\tDunning\t\n",
    "Schorsch Village\tDunning\t\n",
    "Montclare\tMontclare\t\n",
    "Belmont Central\tBelmont Cragin\t\n",
    "Hanson Park\tBelmont Cragin\n",
    "Belmont Gardens\tHermosa\t\n",
    "Kelvyn Park\tHermosa\t\n",
    "East Village\tWest Town\t\n",
    "Noble Square\tWest Town\t\n",
    "Polish Downtown\tWest Town\t\n",
    "Pulaski Park\tWest Town\t\n",
    "Smith Park\tWest Town\t\n",
    "Ukrainian Village\tWest Town\t\n",
    "Wicker Park\tWest Town\t\n",
    "Galewood\tAustin\t\n",
    "The Island\tAustin\t\n",
    "West Garfield Park\tWest Garfield Park\t\n",
    "Fifth City\tEast Garfield Park\t\n",
    "Greektown\tNear West Side\t\n",
    "Little Italy\tNear West Side\t\n",
    "Tri-Taylor\tNear West Side\t\n",
    "Lawndale\tNorth Lawndale\t\n",
    "Homan Square\tNorth Lawndale\t\n",
    "Douglas Park\tNorth Lawndale\t\n",
    "Little Village\tSouth Lawndale\t\n",
    "Heart of Chicago\tLower West Side\t\n",
    "Heart of Italy\tLower West Side\t\n",
    "Pilsen\tLower West Side\t\n",
    "East Pilsen\tLower West Side\t\n",
    "Chinatown\tArmour Square\n",
    "Wentworth Gardens\tArmour Square\t\n",
    "Bridgeport, Chicago\tArmour Square\t\n",
    "Groveland Park\tDouglas\t\n",
    "Lake Meadows\tDouglas\t\n",
    "the Gap\tDouglas\t\n",
    "Prairie Shores\tDouglas\t\n",
    "South Commons\tDouglas\t\n",
    "Oakland\tOakland\t\n",
    "Fuller Park\tFuller Park\t\n",
    "Bronzeville\tGrand Boulevard\t\n",
    "Kenwood\tKenwood\t\n",
    "South Kenwood\tKenwood\t\n",
    "Washington Park\tWashington Park\t\n",
    "East Hyde Park\tHyde Park\t\n",
    "Hyde Park\tHyde Park\t\n",
    "West Woodlawn\tWoodlawn\t\n",
    "Jackson Park Highlands\tSouth Shore\t\n",
    "Bridgeport\tBridgeport\t\n",
    "Grand Crossing\tGreater Grand Crossing\t\n",
    "Parkway Gardens\tGreater Grand Crossing\t\n",
    "Park Manor\tGreater Grand Crossing\t\n",
    "LeClaire Courts\tGarfield Ridge\t\n",
    "Sleepy Hollow\tGarfield Ridge\t\n",
    "Vittum Park\tGarfield Ridge\t\n",
    "Archer Heights\tArcher Heights\t\n",
    "Brighton Park\tBrighton Park\t\n",
    "McKinley Park \tMcKinley Park\t\n",
    "Back of the Yards\tNew City\t\n",
    "Canaryville\tNew City\t\n",
    "West Elsdon\tWest Elsdon\t\n",
    "Gage Park\tGage Park\t\n",
    "Chrysler Village\tClearing\n",
    "Ford City\tWest Lawn\t\n",
    "West Lawn\tWest Lawn\t\n",
    "Lithuanian Plaza\tChicago Lawn\t\n",
    "Marquette Park\tChicago Lawn\t\n",
    "West Englewood\tWest Englewood\t\n",
    "Englewood\tEnglewood\t\n",
    "East Chatham\tChatham\t\n",
    "West Chatham\tChatham\t\n",
    "West Chesterfield\tChatham\t\n",
    "Avalon Park\tAvalon Park\t\n",
    "Marynook\tAvalon Park\t\n",
    "Stony Island Park\tAvalon Park\t\n",
    "The Bush\tSouth Chicago\t\n",
    "Burnside\tBurnside\t\n",
    "Pill Hill\tCalumet Heights\t\n",
    "Fernwood\tRoseland\t\n",
    "Rosemoor\tRoseland\t\n",
    "Cottage Grove Heights\tPullman\t\n",
    "London Towne\tPullman\t\n",
    "Jeffrey Manor\tSouth Deering\t\n",
    "Trumbull Park\tSouth Deering\t\n",
    "Altgeld Gardens\tRiverdale\t\n",
    "Eden Green\tRiverdale\t\n",
    "Golden Gate\tRiverdale\t\n",
    "East Side\tEast Side\t\n",
    "West Pullman\tWest Pullman\t\n",
    "Hegewisch\tHegewisch\n",
    "Beverly View\tAshburn\t\n",
    "Mary Crest\tAshburn\t\n",
    "Parkview\tAshburn\t\n",
    "Scottsdale\tAshburn\t\n",
    "Wrightwood\tAshburn\t\n",
    "Auburn Gresham\tAuburn Gresham\t\n",
    "Beverly\tBeverly\t\n",
    "Brainerd\tWashington Heights\t\n",
    "Longwood Manor\tWashington Heights\t\n",
    "Princeton Park\tWashington Heights\t\n",
    "Mount Greenwood Heights\tMount Greenwood\t\n",
    "Talley's Corner\tMount Greenwood\t\n",
    "Beverly Woods\tMorgan Park\t\n",
    "Kennedy Park\tMorgan Park\t\n",
    "West Morgan Park\tMorgan Park\t\n",
    "\"\"\""
   ]
  },
  {
   "cell_type": "code",
   "execution_count": 28,
   "metadata": {},
   "outputs": [],
   "source": [
    "#neighborhood mapping with community area\n",
    "code_pairs = [[float(p[0]), p[1]] for p in [pair.strip().split('\\t') for pair in area_names.strip().split('\\n')]]\n",
    "area_name_dic = {float(k[0]):k[1] for k in code_pairs} # code -> community area\n",
    "area_toCode_dic = {k[1] : float(k[0]) for k in code_pairs} # community area -> code\n",
    "\n",
    "code_pairs_neighborhoods = [[p[0], p[1]] for p in [pair.strip().split('\\t') for pair in neighborhood_Map.strip().split('\\n')]]\n",
    "neighborhood_name_dic = {k[0]:k[1] for k in code_pairs_neighborhoods} #neighborhood -> community area"
   ]
  },
  {
   "cell_type": "code",
   "execution_count": 29,
   "metadata": {},
   "outputs": [
    {
     "data": {
      "text/html": [
       "<div>\n",
       "<style scoped>\n",
       "    .dataframe tbody tr th:only-of-type {\n",
       "        vertical-align: middle;\n",
       "    }\n",
       "\n",
       "    .dataframe tbody tr th {\n",
       "        vertical-align: top;\n",
       "    }\n",
       "\n",
       "    .dataframe thead th {\n",
       "        text-align: right;\n",
       "    }\n",
       "</style>\n",
       "<table border=\"1\" class=\"dataframe\">\n",
       "  <thead>\n",
       "    <tr style=\"text-align: right;\">\n",
       "      <th></th>\n",
       "      <th>community_area</th>\n",
       "      <th>year</th>\n",
       "      <th>theft</th>\n",
       "      <th>battery</th>\n",
       "      <th>criminal_damage</th>\n",
       "      <th>narcotics</th>\n",
       "      <th>assault</th>\n",
       "      <th>other_offense</th>\n",
       "      <th>burglary</th>\n",
       "      <th>deceptive_practice</th>\n",
       "      <th>motor_vehicle_theft</th>\n",
       "      <th>robbery</th>\n",
       "      <th>community_name</th>\n",
       "    </tr>\n",
       "  </thead>\n",
       "  <tbody>\n",
       "    <tr>\n",
       "      <th>1</th>\n",
       "      <td>1.0</td>\n",
       "      <td>2012</td>\n",
       "      <td>1043.0</td>\n",
       "      <td>991.0</td>\n",
       "      <td>500.0</td>\n",
       "      <td>485.0</td>\n",
       "      <td>340.0</td>\n",
       "      <td>361.0</td>\n",
       "      <td>212.0</td>\n",
       "      <td>152.0</td>\n",
       "      <td>142.0</td>\n",
       "      <td>202.0</td>\n",
       "      <td>Rogers Park</td>\n",
       "    </tr>\n",
       "    <tr>\n",
       "      <th>2</th>\n",
       "      <td>1.0</td>\n",
       "      <td>2013</td>\n",
       "      <td>1004.0</td>\n",
       "      <td>866.0</td>\n",
       "      <td>534.0</td>\n",
       "      <td>362.0</td>\n",
       "      <td>303.0</td>\n",
       "      <td>318.0</td>\n",
       "      <td>187.0</td>\n",
       "      <td>166.0</td>\n",
       "      <td>91.0</td>\n",
       "      <td>136.0</td>\n",
       "      <td>Rogers Park</td>\n",
       "    </tr>\n",
       "    <tr>\n",
       "      <th>3</th>\n",
       "      <td>1.0</td>\n",
       "      <td>2014</td>\n",
       "      <td>811.0</td>\n",
       "      <td>776.0</td>\n",
       "      <td>376.0</td>\n",
       "      <td>278.0</td>\n",
       "      <td>257.0</td>\n",
       "      <td>248.0</td>\n",
       "      <td>174.0</td>\n",
       "      <td>215.0</td>\n",
       "      <td>115.0</td>\n",
       "      <td>113.0</td>\n",
       "      <td>Rogers Park</td>\n",
       "    </tr>\n",
       "    <tr>\n",
       "      <th>4</th>\n",
       "      <td>1.0</td>\n",
       "      <td>2015</td>\n",
       "      <td>845.0</td>\n",
       "      <td>666.0</td>\n",
       "      <td>441.0</td>\n",
       "      <td>205.0</td>\n",
       "      <td>234.0</td>\n",
       "      <td>239.0</td>\n",
       "      <td>165.0</td>\n",
       "      <td>207.0</td>\n",
       "      <td>113.0</td>\n",
       "      <td>106.0</td>\n",
       "      <td>Rogers Park</td>\n",
       "    </tr>\n",
       "    <tr>\n",
       "      <th>5</th>\n",
       "      <td>1.0</td>\n",
       "      <td>2016</td>\n",
       "      <td>851.0</td>\n",
       "      <td>724.0</td>\n",
       "      <td>388.0</td>\n",
       "      <td>79.0</td>\n",
       "      <td>227.0</td>\n",
       "      <td>209.0</td>\n",
       "      <td>175.0</td>\n",
       "      <td>204.0</td>\n",
       "      <td>111.0</td>\n",
       "      <td>154.0</td>\n",
       "      <td>Rogers Park</td>\n",
       "    </tr>\n",
       "  </tbody>\n",
       "</table>\n",
       "</div>"
      ],
      "text/plain": [
       "   community_area  year   theft  battery  criminal_damage  narcotics  assault  \\\n",
       "1             1.0  2012  1043.0    991.0            500.0      485.0    340.0   \n",
       "2             1.0  2013  1004.0    866.0            534.0      362.0    303.0   \n",
       "3             1.0  2014   811.0    776.0            376.0      278.0    257.0   \n",
       "4             1.0  2015   845.0    666.0            441.0      205.0    234.0   \n",
       "5             1.0  2016   851.0    724.0            388.0       79.0    227.0   \n",
       "\n",
       "   other_offense  burglary  deceptive_practice  motor_vehicle_theft  robbery  \\\n",
       "1          361.0     212.0               152.0                142.0    202.0   \n",
       "2          318.0     187.0               166.0                 91.0    136.0   \n",
       "3          248.0     174.0               215.0                115.0    113.0   \n",
       "4          239.0     165.0               207.0                113.0    106.0   \n",
       "5          209.0     175.0               204.0                111.0    154.0   \n",
       "\n",
       "  community_name  \n",
       "1    Rogers Park  \n",
       "2    Rogers Park  \n",
       "3    Rogers Park  \n",
       "4    Rogers Park  \n",
       "5    Rogers Park  "
      ]
     },
     "execution_count": 29,
     "metadata": {},
     "output_type": "execute_result"
    }
   ],
   "source": [
    "#further processing of data\n",
    "df =  crimes_2012.drop(['Latitude', 'Longitude', 'ID','Date'], axis=1)\n",
    "df.columns = [str(re.sub(' ', '_', str(x))).lower() for x in df.columns]\n",
    "\n",
    "### count each crime types over the years\n",
    "crime_catg = df.groupby(['community_area','year','primary_type'])['primary_type'].count().unstack()\n",
    "crime_catg = crime_catg[['theft','battery', 'criminal_damage', 'narcotics', 'assault', 'other_offense',\n",
    "                        'burglary', 'deceptive_practice', 'motor_vehicle_theft', 'robbery']]\n",
    "# crime_catg = crime_catg.dropna()\n",
    "crime_catg.columns = crime_catg.columns.add_categories(['community_name'])\n",
    "crime_catg.columns = pd.Index(list(crime_catg.columns))\n",
    "crime_catg.reset_index(inplace=True)\n",
    "crime_catg.dropna(inplace=True)\n",
    "crime_catg['community_name'] = crime_catg['community_area'].map(area_name_dic)\n",
    "crime_catg.head()"
   ]
  },
  {
   "cell_type": "markdown",
   "metadata": {},
   "source": [
    "Load and preprocess real estate data"
   ]
  },
  {
   "cell_type": "code",
   "execution_count": 30,
   "metadata": {},
   "outputs": [],
   "source": [
    "house_dict = pd.read_excel('real_eastate_data_main.xlsx').to_dict()\n",
    "df = pd.DataFrame(house_dict).set_index('Region')\n",
    "df.columns=df.columns.astype(str)\n",
    "df.columns = pd.to_datetime(df.columns)\n",
    "df = df.stack().reset_index()\n",
    "df.columns = ['Region', 'year', 'price']\n",
    "df = df[df['year'].dt.year.between(2012,2016)]\n",
    "df['price_change'] = df.groupby('Region').price.apply(lambda x: x.diff().abs()/x)\n",
    "house_df = df.groupby(['Region', df.year.dt.year])[['price_change']].mean()\n",
    "house_df['price_status'] = house_df.groupby(level=0).apply(lambda x: (x>x.mean()).astype(int))\n",
    "house_df.reset_index(inplace=True)"
   ]
  },
  {
   "cell_type": "code",
   "execution_count": 31,
   "metadata": {},
   "outputs": [
    {
     "data": {
      "text/html": [
       "<div>\n",
       "<style scoped>\n",
       "    .dataframe tbody tr th:only-of-type {\n",
       "        vertical-align: middle;\n",
       "    }\n",
       "\n",
       "    .dataframe tbody tr th {\n",
       "        vertical-align: top;\n",
       "    }\n",
       "\n",
       "    .dataframe thead th {\n",
       "        text-align: right;\n",
       "    }\n",
       "</style>\n",
       "<table border=\"1\" class=\"dataframe\">\n",
       "  <thead>\n",
       "    <tr style=\"text-align: right;\">\n",
       "      <th></th>\n",
       "      <th>Region</th>\n",
       "      <th>year</th>\n",
       "      <th>price_change</th>\n",
       "      <th>price_status</th>\n",
       "    </tr>\n",
       "  </thead>\n",
       "  <tbody>\n",
       "    <tr>\n",
       "      <th>0</th>\n",
       "      <td>Chicago, IL</td>\n",
       "      <td>2012</td>\n",
       "      <td>0.082864</td>\n",
       "      <td>1</td>\n",
       "    </tr>\n",
       "    <tr>\n",
       "      <th>1</th>\n",
       "      <td>Chicago, IL</td>\n",
       "      <td>2013</td>\n",
       "      <td>0.074208</td>\n",
       "      <td>1</td>\n",
       "    </tr>\n",
       "    <tr>\n",
       "      <th>2</th>\n",
       "      <td>Chicago, IL</td>\n",
       "      <td>2014</td>\n",
       "      <td>0.063483</td>\n",
       "      <td>0</td>\n",
       "    </tr>\n",
       "    <tr>\n",
       "      <th>3</th>\n",
       "      <td>Chicago, IL</td>\n",
       "      <td>2015</td>\n",
       "      <td>0.059584</td>\n",
       "      <td>0</td>\n",
       "    </tr>\n",
       "    <tr>\n",
       "      <th>4</th>\n",
       "      <td>Chicago, IL</td>\n",
       "      <td>2016</td>\n",
       "      <td>0.051434</td>\n",
       "      <td>0</td>\n",
       "    </tr>\n",
       "  </tbody>\n",
       "</table>\n",
       "</div>"
      ],
      "text/plain": [
       "        Region  year  price_change  price_status\n",
       "0  Chicago, IL  2012      0.082864             1\n",
       "1  Chicago, IL  2013      0.074208             1\n",
       "2  Chicago, IL  2014      0.063483             0\n",
       "3  Chicago, IL  2015      0.059584             0\n",
       "4  Chicago, IL  2016      0.051434             0"
      ]
     },
     "execution_count": 31,
     "metadata": {},
     "output_type": "execute_result"
    }
   ],
   "source": [
    "house_df.head()"
   ]
  },
  {
   "cell_type": "markdown",
   "metadata": {},
   "source": [
    "Concatinate Crime and housing data frames"
   ]
  },
  {
   "cell_type": "code",
   "execution_count": 32,
   "metadata": {},
   "outputs": [
    {
     "data": {
      "text/html": [
       "<div>\n",
       "<style scoped>\n",
       "    .dataframe tbody tr th:only-of-type {\n",
       "        vertical-align: middle;\n",
       "    }\n",
       "\n",
       "    .dataframe tbody tr th {\n",
       "        vertical-align: top;\n",
       "    }\n",
       "\n",
       "    .dataframe thead th {\n",
       "        text-align: right;\n",
       "    }\n",
       "</style>\n",
       "<table border=\"1\" class=\"dataframe\">\n",
       "  <thead>\n",
       "    <tr style=\"text-align: right;\">\n",
       "      <th></th>\n",
       "      <th>community_area</th>\n",
       "      <th>year</th>\n",
       "      <th>theft</th>\n",
       "      <th>battery</th>\n",
       "      <th>criminal_damage</th>\n",
       "      <th>narcotics</th>\n",
       "      <th>assault</th>\n",
       "      <th>other_offense</th>\n",
       "      <th>burglary</th>\n",
       "      <th>deceptive_practice</th>\n",
       "      <th>motor_vehicle_theft</th>\n",
       "      <th>robbery</th>\n",
       "      <th>community_name</th>\n",
       "      <th>price_change</th>\n",
       "      <th>price_status</th>\n",
       "      <th>neighborhood</th>\n",
       "    </tr>\n",
       "  </thead>\n",
       "  <tbody>\n",
       "    <tr>\n",
       "      <th>0</th>\n",
       "      <td>1.0</td>\n",
       "      <td>2012</td>\n",
       "      <td>1043.0</td>\n",
       "      <td>991.0</td>\n",
       "      <td>500.0</td>\n",
       "      <td>485.0</td>\n",
       "      <td>340.0</td>\n",
       "      <td>361.0</td>\n",
       "      <td>212.0</td>\n",
       "      <td>152.0</td>\n",
       "      <td>142.0</td>\n",
       "      <td>202.0</td>\n",
       "      <td>Rogers Park</td>\n",
       "      <td>0.049765</td>\n",
       "      <td>1</td>\n",
       "      <td>Rogers Park</td>\n",
       "    </tr>\n",
       "    <tr>\n",
       "      <th>1</th>\n",
       "      <td>1.0</td>\n",
       "      <td>2013</td>\n",
       "      <td>1004.0</td>\n",
       "      <td>866.0</td>\n",
       "      <td>534.0</td>\n",
       "      <td>362.0</td>\n",
       "      <td>303.0</td>\n",
       "      <td>318.0</td>\n",
       "      <td>187.0</td>\n",
       "      <td>166.0</td>\n",
       "      <td>91.0</td>\n",
       "      <td>136.0</td>\n",
       "      <td>Rogers Park</td>\n",
       "      <td>0.046038</td>\n",
       "      <td>1</td>\n",
       "      <td>Rogers Park</td>\n",
       "    </tr>\n",
       "    <tr>\n",
       "      <th>2</th>\n",
       "      <td>1.0</td>\n",
       "      <td>2014</td>\n",
       "      <td>811.0</td>\n",
       "      <td>776.0</td>\n",
       "      <td>376.0</td>\n",
       "      <td>278.0</td>\n",
       "      <td>257.0</td>\n",
       "      <td>248.0</td>\n",
       "      <td>174.0</td>\n",
       "      <td>215.0</td>\n",
       "      <td>115.0</td>\n",
       "      <td>113.0</td>\n",
       "      <td>Rogers Park</td>\n",
       "      <td>0.044754</td>\n",
       "      <td>1</td>\n",
       "      <td>Rogers Park</td>\n",
       "    </tr>\n",
       "    <tr>\n",
       "      <th>3</th>\n",
       "      <td>1.0</td>\n",
       "      <td>2015</td>\n",
       "      <td>845.0</td>\n",
       "      <td>666.0</td>\n",
       "      <td>441.0</td>\n",
       "      <td>205.0</td>\n",
       "      <td>234.0</td>\n",
       "      <td>239.0</td>\n",
       "      <td>165.0</td>\n",
       "      <td>207.0</td>\n",
       "      <td>113.0</td>\n",
       "      <td>106.0</td>\n",
       "      <td>Rogers Park</td>\n",
       "      <td>0.032996</td>\n",
       "      <td>0</td>\n",
       "      <td>Rogers Park</td>\n",
       "    </tr>\n",
       "    <tr>\n",
       "      <th>4</th>\n",
       "      <td>1.0</td>\n",
       "      <td>2016</td>\n",
       "      <td>851.0</td>\n",
       "      <td>724.0</td>\n",
       "      <td>388.0</td>\n",
       "      <td>79.0</td>\n",
       "      <td>227.0</td>\n",
       "      <td>209.0</td>\n",
       "      <td>175.0</td>\n",
       "      <td>204.0</td>\n",
       "      <td>111.0</td>\n",
       "      <td>154.0</td>\n",
       "      <td>Rogers Park</td>\n",
       "      <td>0.043892</td>\n",
       "      <td>1</td>\n",
       "      <td>Rogers Park</td>\n",
       "    </tr>\n",
       "  </tbody>\n",
       "</table>\n",
       "</div>"
      ],
      "text/plain": [
       "   community_area  year   theft  battery  criminal_damage  narcotics  assault  \\\n",
       "0             1.0  2012  1043.0    991.0            500.0      485.0    340.0   \n",
       "1             1.0  2013  1004.0    866.0            534.0      362.0    303.0   \n",
       "2             1.0  2014   811.0    776.0            376.0      278.0    257.0   \n",
       "3             1.0  2015   845.0    666.0            441.0      205.0    234.0   \n",
       "4             1.0  2016   851.0    724.0            388.0       79.0    227.0   \n",
       "\n",
       "   other_offense  burglary  deceptive_practice  motor_vehicle_theft  robbery  \\\n",
       "0          361.0     212.0               152.0                142.0    202.0   \n",
       "1          318.0     187.0               166.0                 91.0    136.0   \n",
       "2          248.0     174.0               215.0                115.0    113.0   \n",
       "3          239.0     165.0               207.0                113.0    106.0   \n",
       "4          209.0     175.0               204.0                111.0    154.0   \n",
       "\n",
       "  community_name  price_change  price_status neighborhood  \n",
       "0    Rogers Park      0.049765             1  Rogers Park  \n",
       "1    Rogers Park      0.046038             1  Rogers Park  \n",
       "2    Rogers Park      0.044754             1  Rogers Park  \n",
       "3    Rogers Park      0.032996             0  Rogers Park  \n",
       "4    Rogers Park      0.043892             1  Rogers Park  "
      ]
     },
     "execution_count": 32,
     "metadata": {},
     "output_type": "execute_result"
    }
   ],
   "source": [
    "house_df['neighborhood']=house_df['Region'].map(lambda x: x.lstrip('Chicago, IL - '))\n",
    "crime_finalDF = pd.merge(crime_catg, house_df, left_on=['community_name', 'year'], right_on=['neighborhood', 'year'])\n",
    "crime_finalDF.drop(['Region'], axis=1, inplace=True)\n",
    "crime_finalDF.head()"
   ]
  },
  {
   "cell_type": "code",
   "execution_count": null,
   "metadata": {},
   "outputs": [],
   "source": [
    "#Import various Classification/regression libraries."
   ]
  },
  {
   "cell_type": "code",
   "execution_count": 48,
   "metadata": {},
   "outputs": [],
   "source": [
    "from sklearn.tree import DecisionTreeClassifier\n",
    "from sklearn.linear_model import Perceptron\n",
    "from sklearn.neighbors import KNeighborsClassifier\n",
    "from sklearn.svm import SVC\n",
    "from sklearn.linear_model import LogisticRegression\n",
    "from sklearn.naive_bayes import MultinomialNB\n",
    "from sklearn.naive_bayes import BernoulliNB\n",
    "from sklearn.linear_model import SGDClassifier\n",
    "from sklearn.ensemble import AdaBoostClassifier\n",
    "from sklearn.ensemble import BaggingClassifier\n",
    "from sklearn.ensemble import RandomForestClassifier\n",
    "from sklearn.dummy import DummyClassifier\n",
    "from sklearn.model_selection import train_test_split\n",
    "from sklearn.pipeline import Pipeline\n",
    "from sklearn.metrics import roc_curve, auc\n",
    "from sklearn.metrics import classification_report\n",
    "from sklearn.metrics import f1_score\n",
    "from sklearn.metrics import accuracy_score\n",
    "from sklearn.model_selection import GridSearchCV\n",
    "from sklearn.model_selection import cross_val_score\n",
    "from sklearn.metrics import roc_auc_score, roc_curve\n",
    "import warnings"
   ]
  },
  {
   "cell_type": "code",
   "execution_count": 99,
   "metadata": {},
   "outputs": [],
   "source": [
    "#defining features and labels.\n",
    "X_features=crime_finalDF.iloc[:, 2:11,].values\n",
    "y_label=crime_finalDF['price_status'].values"
   ]
  },
  {
   "cell_type": "code",
   "execution_count": 100,
   "metadata": {},
   "outputs": [],
   "source": [
    "#splitting data into train and test\n",
    "seed=np.random.seed(200)\n",
    "X_train, X_test, y_train, y_test = train_test_split(X_features, y_label, test_size = 0.25, random_state = seed)"
   ]
  },
  {
   "cell_type": "code",
   "execution_count": 101,
   "metadata": {},
   "outputs": [],
   "source": [
    "_RANDOM_STATE_V = 45"
   ]
  },
  {
   "cell_type": "markdown",
   "metadata": {},
   "source": [
    "Starting with Dummy Classifier"
   ]
  },
  {
   "cell_type": "code",
   "execution_count": 60,
   "metadata": {},
   "outputs": [
    {
     "name": "stdout",
     "output_type": "stream",
     "text": [
      "Accuracy:  0.5223880597014925\n",
      "              precision    recall  f1-score   support\n",
      "\n",
      "           0       0.61      0.61      0.61        41\n",
      "           1       0.38      0.38      0.38        26\n",
      "\n",
      "   micro avg       0.52      0.52      0.52        67\n",
      "   macro avg       0.50      0.50      0.50        67\n",
      "weighted avg       0.52      0.52      0.52        67\n",
      "\n"
     ]
    }
   ],
   "source": [
    "model = DummyClassifier(strategy=\"stratified\", random_state=_RANDOM_STATE_V).fit(X_train, y_train)\n",
    "pred = model.predict(X_test)\n",
    "print('Accuracy: ', accuracy_score(pred, y_test))\n",
    "print(classification_report(pred, y_test))"
   ]
  },
  {
   "cell_type": "markdown",
   "metadata": {},
   "source": [
    "#### Plotting ROC Curve:\n",
    "\n",
    "Receiver Operating Characteristic (ROC) metric to evaluate classifier output quality.\n",
    "\n",
    "ROC curves typically feature true positive rate on the Y axis, and false positive rate on the X axis. This means that the top left corner of the plot is the “ideal” point - a false positive rate of zero, and a true positive rate of one. This is not very realistic, but it does mean that a larger area under the curve (AUC) is usually better.\n",
    "\n",
    "The “steepness” of ROC curves is also important, since it is ideal to maximize the true positive rate while minimizing the false positive rate."
   ]
  },
  {
   "cell_type": "code",
   "execution_count": 61,
   "metadata": {},
   "outputs": [
    {
     "data": {
      "image/png": "[encoded data removed]",
      "text/plain": [
       "<Figure size 432x288 with 1 Axes>"
      ]
     },
     "metadata": {
      "needs_background": "light"
     },
     "output_type": "display_data"
    }
   ],
   "source": [
    "#predicting probabilities:\n",
    "model_prediction_prob = model.predict_proba(X_test)[:, 1]\n",
    "#getting true positives and false positives\n",
    "fpr, tpr, _ = roc_curve(y_test.ravel(), model_prediction_prob.ravel())\n",
    "roc_auc = roc_auc_score(y_test.ravel(), model_prediction_prob.ravel())\n",
    "#plotting data\n",
    "plt.figure()\n",
    "plt.plot(fpr, tpr, color='cyan', lw=2,\n",
    "         label='Dummy Classifier ROC AUC={0:.3f}'.format(roc_auc))\n",
    "plt.plot([0, 1], [0, 1], color='navy', lw=1, linestyle='--')\n",
    "plt.legend(loc=\"lower right\")\n",
    "plt.xlim([0.0, 1.0])\n",
    "plt.ylim([0.0, 1.05])\n",
    "plt.xlabel('False Positive rate')\n",
    "plt.ylabel('True Positive rate')\n",
    "plt.title('ROC Curve for dummy classifier')\n",
    "plt.show()"
   ]
  },
  {
   "cell_type": "markdown",
   "metadata": {},
   "source": [
    "Decision Tree Classifier"
   ]
  },
  {
   "cell_type": "code",
   "execution_count": 62,
   "metadata": {},
   "outputs": [
    {
     "name": "stdout",
     "output_type": "stream",
     "text": [
      "Accuracy:  0.5671641791044776\n",
      "              precision    recall  f1-score   support\n",
      "\n",
      "           0       0.54      0.69      0.60        32\n",
      "           1       0.62      0.46      0.52        35\n",
      "\n",
      "   micro avg       0.57      0.57      0.57        67\n",
      "   macro avg       0.58      0.57      0.56        67\n",
      "weighted avg       0.58      0.57      0.56        67\n",
      "\n"
     ]
    },
    {
     "data": {
      "image/png": "[encoded data removed]",
      "text/plain": [
       "<Figure size 432x288 with 1 Axes>"
      ]
     },
     "metadata": {
      "needs_background": "light"
     },
     "output_type": "display_data"
    }
   ],
   "source": [
    "max_depth = [2,4,6,8,10]\n",
    "Ecv_scores = []\n",
    "for i in max_depth:\n",
    "    model = DecisionTreeClassifier(max_depth = i, criterion = 'entropy', random_state = _RANDOM_STATE_V)\n",
    "    model.fit(X_train, y_train)\n",
    "    cv_scores = cross_val_score(model, X_train, y_train, cv=10)\n",
    "    Ecv_scores.append(1-np.mean(cv_scores))\n",
    "plt.scatter(max_depth, Ecv_scores)\n",
    "model = DecisionTreeClassifier(max_depth = 10, criterion = 'entropy', random_state = _RANDOM_STATE_V)\n",
    "model.fit(X_train, y_train)\n",
    "pred = model.predict(X_test)\n",
    "print('Accuracy: ', accuracy_score(pred, y_test))\n",
    "print(classification_report(pred, y_test))"
   ]
  },
  {
   "cell_type": "code",
   "execution_count": 63,
   "metadata": {},
   "outputs": [
    {
     "data": {
      "image/png": "[encoded data removed]",
      "text/plain": [
       "<Figure size 432x288 with 1 Axes>"
      ]
     },
     "metadata": {
      "needs_background": "light"
     },
     "output_type": "display_data"
    }
   ],
   "source": [
    "#predicting probabilities:\n",
    "model_prediction_prob = model.predict_proba(X_test)[:, 1]\n",
    "#getting true positives and false positives\n",
    "fpr, tpr, _ = roc_curve(y_test.ravel(), model_prediction_prob.ravel())\n",
    "roc_auc = roc_auc_score(y_test.ravel(), model_prediction_prob.ravel())\n",
    "#plotting data\n",
    "plt.figure()\n",
    "plt.plot(fpr, tpr, color='cyan', lw=2,\n",
    "         label='Decision Tree Classifier ROC AUC={0:.3f}'.format(roc_auc))\n",
    "plt.plot([0, 1], [0, 1], color='navy', lw=1, linestyle='--')\n",
    "plt.legend(loc=\"lower right\")\n",
    "plt.xlim([0.0, 1.0])\n",
    "plt.ylim([0.0, 1.05])\n",
    "plt.xlabel('False Positive rate')\n",
    "plt.ylabel('True Positive rate')\n",
    "plt.title('ROC Curve for Decision Tree Classifier')\n",
    "plt.show()"
   ]
  },
  {
   "cell_type": "code",
   "execution_count": null,
   "metadata": {},
   "outputs": [],
   "source": [
    "Linear Perceptron"
   ]
  },
  {
   "cell_type": "code",
   "execution_count": 66,
   "metadata": {},
   "outputs": [
    {
     "name": "stderr",
     "output_type": "stream",
     "text": [
      "C:\\Users\\dkond\\Anaconda3\\lib\\site-packages\\sklearn\\linear_model\\stochastic_gradient.py:183: FutureWarning: max_iter and tol parameters have been added in Perceptron in 0.19. If max_iter is set but tol is left unset, the default value for tol in 0.19 and 0.20 will be None (which is equivalent to -infinity, so it has no effect) but will change in 0.21 to 1e-3. Specify tol to silence this warning.\n",
      "  FutureWarning)\n"
     ]
    },
    {
     "name": "stdout",
     "output_type": "stream",
     "text": [
      "Accuracy:  0.582089552238806\n",
      "              precision    recall  f1-score   support\n",
      "\n",
      "           0       0.49      0.74      0.59        27\n",
      "           1       0.73      0.47      0.58        40\n",
      "\n",
      "   micro avg       0.58      0.58      0.58        67\n",
      "   macro avg       0.61      0.61      0.58        67\n",
      "weighted avg       0.63      0.58      0.58        67\n",
      "\n"
     ]
    }
   ],
   "source": [
    "model = Perceptron(max_iter = 5000, early_stopping=True, validation_fraction=0.2, penalty='l2', random_state = _RANDOM_STATE_V)\n",
    "model.fit(X_train, y_train)\n",
    "pred = model.predict(X_test)\n",
    "print('Accuracy: ', accuracy_score(pred, y_test))\n",
    "print(classification_report(pred, y_test))"
   ]
  },
  {
   "cell_type": "markdown",
   "metadata": {},
   "source": [
    "Logistic Regression Classifier"
   ]
  },
  {
   "cell_type": "code",
   "execution_count": 69,
   "metadata": {},
   "outputs": [
    {
     "data": {
      "text/plain": [
       "<matplotlib.collections.PathCollection at 0x1ad356547f0>"
      ]
     },
     "execution_count": 69,
     "metadata": {},
     "output_type": "execute_result"
    },
    {
     "data": {
      "image/png": "[encoded data removed]",
      "text/plain": [
       "<Figure size 432x288 with 1 Axes>"
      ]
     },
     "metadata": {
      "needs_background": "light"
     },
     "output_type": "display_data"
    }
   ],
   "source": [
    "c = [0.0001, 0.0005, 0.001, 0.005, 0.01, 0.02, 0.05, 0.1, 0.2, 0.5, 1.0]\n",
    "Ecv_scores = [] \n",
    "for i in c:\n",
    "    model = LogisticRegression(max_iter = 5000, solver='lbfgs', penalty='l2', C=i, random_state = _RANDOM_STATE_V)\n",
    "    model.fit(X_train, y_train)\n",
    "    cv_scores = cross_val_score(model, X_train, y_train, cv=10)\n",
    "    Ecv_scores.append(1-np.mean(cv_scores))\n",
    "plt.scatter(c, Ecv_scores)"
   ]
  },
  {
   "cell_type": "code",
   "execution_count": 102,
   "metadata": {},
   "outputs": [
    {
     "ename": "ZeroDivisionError",
     "evalue": "float division by zero",
     "output_type": "error",
     "traceback": [
      "\u001b[1;31m---------------------------------------------------------------------------\u001b[0m",
      "\u001b[1;31mZeroDivisionError\u001b[0m                         Traceback (most recent call last)",
      "\u001b[1;32m<ipython-input-102-be592b777cd8>\u001b[0m in \u001b[0;36m<module>\u001b[1;34m\u001b[0m\n\u001b[0;32m      1\u001b[0m \u001b[0mmodel\u001b[0m \u001b[1;33m=\u001b[0m \u001b[0mLogisticRegression\u001b[0m\u001b[1;33m(\u001b[0m\u001b[0mmax_iter\u001b[0m \u001b[1;33m=\u001b[0m \u001b[1;36m5000\u001b[0m\u001b[1;33m,\u001b[0m \u001b[0msolver\u001b[0m\u001b[1;33m=\u001b[0m\u001b[1;34m'lbfgs'\u001b[0m\u001b[1;33m,\u001b[0m \u001b[0mpenalty\u001b[0m\u001b[1;33m=\u001b[0m\u001b[1;34m'l2'\u001b[0m\u001b[1;33m,\u001b[0m \u001b[0mC\u001b[0m\u001b[1;33m=\u001b[0m\u001b[0mEcv_scores\u001b[0m\u001b[1;33m.\u001b[0m\u001b[0mindex\u001b[0m\u001b[1;33m(\u001b[0m\u001b[0mmin\u001b[0m\u001b[1;33m(\u001b[0m\u001b[0mEcv_scores\u001b[0m\u001b[1;33m)\u001b[0m\u001b[1;33m)\u001b[0m\u001b[1;33m,\u001b[0m \u001b[0mrandom_state\u001b[0m \u001b[1;33m=\u001b[0m \u001b[0m_RANDOM_STATE_V\u001b[0m\u001b[1;33m)\u001b[0m\u001b[1;33m\u001b[0m\u001b[1;33m\u001b[0m\u001b[0m\n\u001b[1;32m----> 2\u001b[1;33m \u001b[0mmodel\u001b[0m\u001b[1;33m.\u001b[0m\u001b[0mfit\u001b[0m\u001b[1;33m(\u001b[0m\u001b[0mX_train\u001b[0m\u001b[1;33m,\u001b[0m \u001b[0my_train\u001b[0m\u001b[1;33m)\u001b[0m\u001b[1;33m\u001b[0m\u001b[1;33m\u001b[0m\u001b[0m\n\u001b[0m\u001b[0;32m      3\u001b[0m \u001b[0mpred\u001b[0m \u001b[1;33m=\u001b[0m \u001b[0mmodel\u001b[0m\u001b[1;33m.\u001b[0m\u001b[0mpredict\u001b[0m\u001b[1;33m(\u001b[0m\u001b[0mX_test\u001b[0m\u001b[1;33m)\u001b[0m\u001b[1;33m\u001b[0m\u001b[1;33m\u001b[0m\u001b[0m\n\u001b[0;32m      4\u001b[0m \u001b[0mprint\u001b[0m\u001b[1;33m(\u001b[0m\u001b[1;34m'Accuracy: '\u001b[0m\u001b[1;33m,\u001b[0m \u001b[0maccuracy_score\u001b[0m\u001b[1;33m(\u001b[0m\u001b[0mpred\u001b[0m\u001b[1;33m,\u001b[0m \u001b[0my_test\u001b[0m\u001b[1;33m)\u001b[0m\u001b[1;33m)\u001b[0m\u001b[1;33m\u001b[0m\u001b[1;33m\u001b[0m\u001b[0m\n\u001b[0;32m      5\u001b[0m \u001b[0mprint\u001b[0m\u001b[1;33m(\u001b[0m\u001b[0mclassification_report\u001b[0m\u001b[1;33m(\u001b[0m\u001b[0mpred\u001b[0m\u001b[1;33m,\u001b[0m \u001b[0my_test\u001b[0m\u001b[1;33m)\u001b[0m\u001b[1;33m)\u001b[0m\u001b[1;33m\u001b[0m\u001b[1;33m\u001b[0m\u001b[0m\n",
      "\u001b[1;32m~\\Anaconda3\\lib\\site-packages\\sklearn\\linear_model\\logistic.py\u001b[0m in \u001b[0;36mfit\u001b[1;34m(self, X, y, sample_weight)\u001b[0m\n\u001b[0;32m   1358\u001b[0m                       \u001b[0mmax_squared_sum\u001b[0m\u001b[1;33m=\u001b[0m\u001b[0mmax_squared_sum\u001b[0m\u001b[1;33m,\u001b[0m\u001b[1;33m\u001b[0m\u001b[1;33m\u001b[0m\u001b[0m\n\u001b[0;32m   1359\u001b[0m                       sample_weight=sample_weight)\n\u001b[1;32m-> 1360\u001b[1;33m             for class_, warm_start_coef_ in zip(classes_, warm_start_coef))\n\u001b[0m\u001b[0;32m   1361\u001b[0m \u001b[1;33m\u001b[0m\u001b[0m\n\u001b[0;32m   1362\u001b[0m         \u001b[0mfold_coefs_\u001b[0m\u001b[1;33m,\u001b[0m \u001b[0m_\u001b[0m\u001b[1;33m,\u001b[0m \u001b[0mn_iter_\u001b[0m \u001b[1;33m=\u001b[0m \u001b[0mzip\u001b[0m\u001b[1;33m(\u001b[0m\u001b[1;33m*\u001b[0m\u001b[0mfold_coefs_\u001b[0m\u001b[1;33m)\u001b[0m\u001b[1;33m\u001b[0m\u001b[1;33m\u001b[0m\u001b[0m\n",
      "\u001b[1;32m~\\Anaconda3\\lib\\site-packages\\sklearn\\externals\\joblib\\parallel.py\u001b[0m in \u001b[0;36m__call__\u001b[1;34m(self, iterable)\u001b[0m\n\u001b[0;32m    915\u001b[0m             \u001b[1;31m# remaining jobs.\u001b[0m\u001b[1;33m\u001b[0m\u001b[1;33m\u001b[0m\u001b[1;33m\u001b[0m\u001b[0m\n\u001b[0;32m    916\u001b[0m             \u001b[0mself\u001b[0m\u001b[1;33m.\u001b[0m\u001b[0m_iterating\u001b[0m \u001b[1;33m=\u001b[0m \u001b[1;32mFalse\u001b[0m\u001b[1;33m\u001b[0m\u001b[1;33m\u001b[0m\u001b[0m\n\u001b[1;32m--> 917\u001b[1;33m             \u001b[1;32mif\u001b[0m \u001b[0mself\u001b[0m\u001b[1;33m.\u001b[0m\u001b[0mdispatch_one_batch\u001b[0m\u001b[1;33m(\u001b[0m\u001b[0miterator\u001b[0m\u001b[1;33m)\u001b[0m\u001b[1;33m:\u001b[0m\u001b[1;33m\u001b[0m\u001b[1;33m\u001b[0m\u001b[0m\n\u001b[0m\u001b[0;32m    918\u001b[0m                 \u001b[0mself\u001b[0m\u001b[1;33m.\u001b[0m\u001b[0m_iterating\u001b[0m \u001b[1;33m=\u001b[0m \u001b[0mself\u001b[0m\u001b[1;33m.\u001b[0m\u001b[0m_original_iterator\u001b[0m \u001b[1;32mis\u001b[0m \u001b[1;32mnot\u001b[0m \u001b[1;32mNone\u001b[0m\u001b[1;33m\u001b[0m\u001b[1;33m\u001b[0m\u001b[0m\n\u001b[0;32m    919\u001b[0m \u001b[1;33m\u001b[0m\u001b[0m\n",
      "\u001b[1;32m~\\Anaconda3\\lib\\site-packages\\sklearn\\externals\\joblib\\parallel.py\u001b[0m in \u001b[0;36mdispatch_one_batch\u001b[1;34m(self, iterator)\u001b[0m\n\u001b[0;32m    757\u001b[0m                 \u001b[1;32mreturn\u001b[0m \u001b[1;32mFalse\u001b[0m\u001b[1;33m\u001b[0m\u001b[1;33m\u001b[0m\u001b[0m\n\u001b[0;32m    758\u001b[0m             \u001b[1;32melse\u001b[0m\u001b[1;33m:\u001b[0m\u001b[1;33m\u001b[0m\u001b[1;33m\u001b[0m\u001b[0m\n\u001b[1;32m--> 759\u001b[1;33m                 \u001b[0mself\u001b[0m\u001b[1;33m.\u001b[0m\u001b[0m_dispatch\u001b[0m\u001b[1;33m(\u001b[0m\u001b[0mtasks\u001b[0m\u001b[1;33m)\u001b[0m\u001b[1;33m\u001b[0m\u001b[1;33m\u001b[0m\u001b[0m\n\u001b[0m\u001b[0;32m    760\u001b[0m                 \u001b[1;32mreturn\u001b[0m \u001b[1;32mTrue\u001b[0m\u001b[1;33m\u001b[0m\u001b[1;33m\u001b[0m\u001b[0m\n\u001b[0;32m    761\u001b[0m \u001b[1;33m\u001b[0m\u001b[0m\n",
      "\u001b[1;32m~\\Anaconda3\\lib\\site-packages\\sklearn\\externals\\joblib\\parallel.py\u001b[0m in \u001b[0;36m_dispatch\u001b[1;34m(self, batch)\u001b[0m\n\u001b[0;32m    714\u001b[0m         \u001b[1;32mwith\u001b[0m \u001b[0mself\u001b[0m\u001b[1;33m.\u001b[0m\u001b[0m_lock\u001b[0m\u001b[1;33m:\u001b[0m\u001b[1;33m\u001b[0m\u001b[1;33m\u001b[0m\u001b[0m\n\u001b[0;32m    715\u001b[0m             \u001b[0mjob_idx\u001b[0m \u001b[1;33m=\u001b[0m \u001b[0mlen\u001b[0m\u001b[1;33m(\u001b[0m\u001b[0mself\u001b[0m\u001b[1;33m.\u001b[0m\u001b[0m_jobs\u001b[0m\u001b[1;33m)\u001b[0m\u001b[1;33m\u001b[0m\u001b[1;33m\u001b[0m\u001b[0m\n\u001b[1;32m--> 716\u001b[1;33m             \u001b[0mjob\u001b[0m \u001b[1;33m=\u001b[0m \u001b[0mself\u001b[0m\u001b[1;33m.\u001b[0m\u001b[0m_backend\u001b[0m\u001b[1;33m.\u001b[0m\u001b[0mapply_async\u001b[0m\u001b[1;33m(\u001b[0m\u001b[0mbatch\u001b[0m\u001b[1;33m,\u001b[0m \u001b[0mcallback\u001b[0m\u001b[1;33m=\u001b[0m\u001b[0mcb\u001b[0m\u001b[1;33m)\u001b[0m\u001b[1;33m\u001b[0m\u001b[1;33m\u001b[0m\u001b[0m\n\u001b[0m\u001b[0;32m    717\u001b[0m             \u001b[1;31m# A job can complete so quickly than its callback is\u001b[0m\u001b[1;33m\u001b[0m\u001b[1;33m\u001b[0m\u001b[1;33m\u001b[0m\u001b[0m\n\u001b[0;32m    718\u001b[0m             \u001b[1;31m# called before we get here, causing self._jobs to\u001b[0m\u001b[1;33m\u001b[0m\u001b[1;33m\u001b[0m\u001b[1;33m\u001b[0m\u001b[0m\n",
      "\u001b[1;32m~\\Anaconda3\\lib\\site-packages\\sklearn\\externals\\joblib\\_parallel_backends.py\u001b[0m in \u001b[0;36mapply_async\u001b[1;34m(self, func, callback)\u001b[0m\n\u001b[0;32m    180\u001b[0m     \u001b[1;32mdef\u001b[0m \u001b[0mapply_async\u001b[0m\u001b[1;33m(\u001b[0m\u001b[0mself\u001b[0m\u001b[1;33m,\u001b[0m \u001b[0mfunc\u001b[0m\u001b[1;33m,\u001b[0m \u001b[0mcallback\u001b[0m\u001b[1;33m=\u001b[0m\u001b[1;32mNone\u001b[0m\u001b[1;33m)\u001b[0m\u001b[1;33m:\u001b[0m\u001b[1;33m\u001b[0m\u001b[1;33m\u001b[0m\u001b[0m\n\u001b[0;32m    181\u001b[0m         \u001b[1;34m\"\"\"Schedule a func to be run\"\"\"\u001b[0m\u001b[1;33m\u001b[0m\u001b[1;33m\u001b[0m\u001b[0m\n\u001b[1;32m--> 182\u001b[1;33m         \u001b[0mresult\u001b[0m \u001b[1;33m=\u001b[0m \u001b[0mImmediateResult\u001b[0m\u001b[1;33m(\u001b[0m\u001b[0mfunc\u001b[0m\u001b[1;33m)\u001b[0m\u001b[1;33m\u001b[0m\u001b[1;33m\u001b[0m\u001b[0m\n\u001b[0m\u001b[0;32m    183\u001b[0m         \u001b[1;32mif\u001b[0m \u001b[0mcallback\u001b[0m\u001b[1;33m:\u001b[0m\u001b[1;33m\u001b[0m\u001b[1;33m\u001b[0m\u001b[0m\n\u001b[0;32m    184\u001b[0m             \u001b[0mcallback\u001b[0m\u001b[1;33m(\u001b[0m\u001b[0mresult\u001b[0m\u001b[1;33m)\u001b[0m\u001b[1;33m\u001b[0m\u001b[1;33m\u001b[0m\u001b[0m\n",
      "\u001b[1;32m~\\Anaconda3\\lib\\site-packages\\sklearn\\externals\\joblib\\_parallel_backends.py\u001b[0m in \u001b[0;36m__init__\u001b[1;34m(self, batch)\u001b[0m\n\u001b[0;32m    547\u001b[0m         \u001b[1;31m# Don't delay the application, to avoid keeping the input\u001b[0m\u001b[1;33m\u001b[0m\u001b[1;33m\u001b[0m\u001b[1;33m\u001b[0m\u001b[0m\n\u001b[0;32m    548\u001b[0m         \u001b[1;31m# arguments in memory\u001b[0m\u001b[1;33m\u001b[0m\u001b[1;33m\u001b[0m\u001b[1;33m\u001b[0m\u001b[0m\n\u001b[1;32m--> 549\u001b[1;33m         \u001b[0mself\u001b[0m\u001b[1;33m.\u001b[0m\u001b[0mresults\u001b[0m \u001b[1;33m=\u001b[0m \u001b[0mbatch\u001b[0m\u001b[1;33m(\u001b[0m\u001b[1;33m)\u001b[0m\u001b[1;33m\u001b[0m\u001b[1;33m\u001b[0m\u001b[0m\n\u001b[0m\u001b[0;32m    550\u001b[0m \u001b[1;33m\u001b[0m\u001b[0m\n\u001b[0;32m    551\u001b[0m     \u001b[1;32mdef\u001b[0m \u001b[0mget\u001b[0m\u001b[1;33m(\u001b[0m\u001b[0mself\u001b[0m\u001b[1;33m)\u001b[0m\u001b[1;33m:\u001b[0m\u001b[1;33m\u001b[0m\u001b[1;33m\u001b[0m\u001b[0m\n",
      "\u001b[1;32m~\\Anaconda3\\lib\\site-packages\\sklearn\\externals\\joblib\\parallel.py\u001b[0m in \u001b[0;36m__call__\u001b[1;34m(self)\u001b[0m\n\u001b[0;32m    223\u001b[0m         \u001b[1;32mwith\u001b[0m \u001b[0mparallel_backend\u001b[0m\u001b[1;33m(\u001b[0m\u001b[0mself\u001b[0m\u001b[1;33m.\u001b[0m\u001b[0m_backend\u001b[0m\u001b[1;33m,\u001b[0m \u001b[0mn_jobs\u001b[0m\u001b[1;33m=\u001b[0m\u001b[0mself\u001b[0m\u001b[1;33m.\u001b[0m\u001b[0m_n_jobs\u001b[0m\u001b[1;33m)\u001b[0m\u001b[1;33m:\u001b[0m\u001b[1;33m\u001b[0m\u001b[1;33m\u001b[0m\u001b[0m\n\u001b[0;32m    224\u001b[0m             return [func(*args, **kwargs)\n\u001b[1;32m--> 225\u001b[1;33m                     for func, args, kwargs in self.items]\n\u001b[0m\u001b[0;32m    226\u001b[0m \u001b[1;33m\u001b[0m\u001b[0m\n\u001b[0;32m    227\u001b[0m     \u001b[1;32mdef\u001b[0m \u001b[0m__len__\u001b[0m\u001b[1;33m(\u001b[0m\u001b[0mself\u001b[0m\u001b[1;33m)\u001b[0m\u001b[1;33m:\u001b[0m\u001b[1;33m\u001b[0m\u001b[1;33m\u001b[0m\u001b[0m\n",
      "\u001b[1;32m~\\Anaconda3\\lib\\site-packages\\sklearn\\externals\\joblib\\parallel.py\u001b[0m in \u001b[0;36m<listcomp>\u001b[1;34m(.0)\u001b[0m\n\u001b[0;32m    223\u001b[0m         \u001b[1;32mwith\u001b[0m \u001b[0mparallel_backend\u001b[0m\u001b[1;33m(\u001b[0m\u001b[0mself\u001b[0m\u001b[1;33m.\u001b[0m\u001b[0m_backend\u001b[0m\u001b[1;33m,\u001b[0m \u001b[0mn_jobs\u001b[0m\u001b[1;33m=\u001b[0m\u001b[0mself\u001b[0m\u001b[1;33m.\u001b[0m\u001b[0m_n_jobs\u001b[0m\u001b[1;33m)\u001b[0m\u001b[1;33m:\u001b[0m\u001b[1;33m\u001b[0m\u001b[1;33m\u001b[0m\u001b[0m\n\u001b[0;32m    224\u001b[0m             return [func(*args, **kwargs)\n\u001b[1;32m--> 225\u001b[1;33m                     for func, args, kwargs in self.items]\n\u001b[0m\u001b[0;32m    226\u001b[0m \u001b[1;33m\u001b[0m\u001b[0m\n\u001b[0;32m    227\u001b[0m     \u001b[1;32mdef\u001b[0m \u001b[0m__len__\u001b[0m\u001b[1;33m(\u001b[0m\u001b[0mself\u001b[0m\u001b[1;33m)\u001b[0m\u001b[1;33m:\u001b[0m\u001b[1;33m\u001b[0m\u001b[1;33m\u001b[0m\u001b[0m\n",
      "\u001b[1;32m~\\Anaconda3\\lib\\site-packages\\sklearn\\linear_model\\logistic.py\u001b[0m in \u001b[0;36mlogistic_regression_path\u001b[1;34m(X, y, pos_class, Cs, fit_intercept, max_iter, tol, verbose, solver, coef, class_weight, dual, penalty, intercept_scaling, multi_class, random_state, check_input, max_squared_sum, sample_weight)\u001b[0m\n\u001b[0;32m    752\u001b[0m             w0, loss, info = optimize.fmin_l_bfgs_b(\n\u001b[0;32m    753\u001b[0m                 \u001b[0mfunc\u001b[0m\u001b[1;33m,\u001b[0m \u001b[0mw0\u001b[0m\u001b[1;33m,\u001b[0m \u001b[0mfprime\u001b[0m\u001b[1;33m=\u001b[0m\u001b[1;32mNone\u001b[0m\u001b[1;33m,\u001b[0m\u001b[1;33m\u001b[0m\u001b[1;33m\u001b[0m\u001b[0m\n\u001b[1;32m--> 754\u001b[1;33m                 \u001b[0margs\u001b[0m\u001b[1;33m=\u001b[0m\u001b[1;33m(\u001b[0m\u001b[0mX\u001b[0m\u001b[1;33m,\u001b[0m \u001b[0mtarget\u001b[0m\u001b[1;33m,\u001b[0m \u001b[1;36m1.\u001b[0m \u001b[1;33m/\u001b[0m \u001b[0mC\u001b[0m\u001b[1;33m,\u001b[0m \u001b[0msample_weight\u001b[0m\u001b[1;33m)\u001b[0m\u001b[1;33m,\u001b[0m\u001b[1;33m\u001b[0m\u001b[1;33m\u001b[0m\u001b[0m\n\u001b[0m\u001b[0;32m    755\u001b[0m                 iprint=iprint, pgtol=tol, maxiter=max_iter)\n\u001b[0;32m    756\u001b[0m             \u001b[1;32mif\u001b[0m \u001b[0minfo\u001b[0m\u001b[1;33m[\u001b[0m\u001b[1;34m\"warnflag\"\u001b[0m\u001b[1;33m]\u001b[0m \u001b[1;33m==\u001b[0m \u001b[1;36m1\u001b[0m\u001b[1;33m:\u001b[0m\u001b[1;33m\u001b[0m\u001b[1;33m\u001b[0m\u001b[0m\n",
      "\u001b[1;31mZeroDivisionError\u001b[0m: float division by zero"
     ]
    }
   ],
   "source": [
    "model = LogisticRegression(max_iter = 5000, solver='lbfgs', penalty='l2', C=Ecv_scores.index(min(Ecv_scores)), random_state = _RANDOM_STATE_V)\n",
    "model.fit(X_train, y_train)\n",
    "pred = model.predict(X_test)\n",
    "print('Accuracy: ', accuracy_score(pred, y_test))\n",
    "print(classification_report(pred, y_test))"
   ]
  },
  {
   "cell_type": "code",
   "execution_count": 72,
   "metadata": {},
   "outputs": [
    {
     "data": {
      "image/png": "[encoded data removed]",
      "text/plain": [
       "<Figure size 432x288 with 1 Axes>"
      ]
     },
     "metadata": {
      "needs_background": "light"
     },
     "output_type": "display_data"
    }
   ],
   "source": [
    "#predicting probabilities:\n",
    "model_prediction_prob = model.predict_proba(X_test)[:, 1]\n",
    "#getting true positives and false positives\n",
    "fpr, tpr, _ = roc_curve(y_test.ravel(), model_prediction_prob.ravel())\n",
    "roc_auc = roc_auc_score(y_test.ravel(), model_prediction_prob.ravel())\n",
    "#plotting data\n",
    "plt.figure()\n",
    "plt.plot(fpr, tpr, color='red', lw=2,\n",
    "         label='Logistic Regression ROC AUC={0:.3f}'.format(roc_auc))\n",
    "plt.plot([0, 1], [0, 1], color='navy', lw=1, linestyle='--')\n",
    "plt.legend(loc=\"lower right\")\n",
    "plt.xlim([0.0, 1.0])\n",
    "plt.ylim([0.0, 1.05])\n",
    "plt.xlabel('False Positive rate')\n",
    "plt.ylabel('True Positive rate')\n",
    "plt.title('Logistic Regression ROC Curve')\n",
    "plt.show()"
   ]
  },
  {
   "cell_type": "markdown",
   "metadata": {},
   "source": [
    "#Working with Naive Bayes classifiers"
   ]
  },
  {
   "cell_type": "code",
   "execution_count": 73,
   "metadata": {},
   "outputs": [
    {
     "name": "stdout",
     "output_type": "stream",
     "text": [
      "Accuracy:  0.44776119402985076\n",
      "              precision    recall  f1-score   support\n",
      "\n",
      "           0       0.34      0.58      0.43        24\n",
      "           1       0.62      0.37      0.46        43\n",
      "\n",
      "   micro avg       0.45      0.45      0.45        67\n",
      "   macro avg       0.48      0.48      0.45        67\n",
      "weighted avg       0.52      0.45      0.45        67\n",
      "\n"
     ]
    }
   ],
   "source": [
    "#multinomial NB\n",
    "model = MultinomialNB()\n",
    "model.fit(X_train, y_train)\n",
    "pred = model.predict(X_test)\n",
    "print('Accuracy: ', accuracy_score(pred, y_test))\n",
    "print(classification_report(pred, y_test))"
   ]
  },
  {
   "cell_type": "code",
   "execution_count": 74,
   "metadata": {},
   "outputs": [
    {
     "data": {
      "image/png": "[encoded data removed]",
      "text/plain": [
       "<Figure size 432x288 with 1 Axes>"
      ]
     },
     "metadata": {
      "needs_background": "light"
     },
     "output_type": "display_data"
    }
   ],
   "source": [
    "#predicting probabilities:\n",
    "model_prediction_prob = model.predict_proba(X_test)[:, 1]\n",
    "#getting true positives and false positives\n",
    "fpr, tpr, _ = roc_curve(y_test.ravel(), model_prediction_prob.ravel())\n",
    "roc_auc = roc_auc_score(y_test.ravel(), model_prediction_prob.ravel())\n",
    "#plotting data\n",
    "plt.figure()\n",
    "plt.plot(fpr, tpr, color='red', lw=2,\n",
    "         label='Naive Bayes  ROC AUC={0:.3f}'.format(roc_auc))\n",
    "plt.plot([0, 1], [0, 1], color='navy', lw=1, linestyle='--')\n",
    "plt.legend(loc=\"lower right\")\n",
    "plt.xlim([0.0, 1.0])\n",
    "plt.ylim([0.0, 1.05])\n",
    "plt.xlabel('False Positive rate')\n",
    "plt.ylabel('True Positive rate')\n",
    "plt.title('Naive Bayes ROC Curve')\n",
    "plt.show()"
   ]
  },
  {
   "cell_type": "code",
   "execution_count": 77,
   "metadata": {},
   "outputs": [
    {
     "name": "stdout",
     "output_type": "stream",
     "text": [
      "Accuracy:  0.6119402985074627\n",
      "              precision    recall  f1-score   support\n",
      "\n",
      "           0       1.00      0.61      0.76        67\n",
      "           1       0.00      0.00      0.00         0\n",
      "\n",
      "   micro avg       0.61      0.61      0.61        67\n",
      "   macro avg       0.50      0.31      0.38        67\n",
      "weighted avg       1.00      0.61      0.76        67\n",
      "\n"
     ]
    },
    {
     "name": "stderr",
     "output_type": "stream",
     "text": [
      "C:\\Users\\dkond\\Anaconda3\\lib\\site-packages\\sklearn\\metrics\\classification.py:1145: UndefinedMetricWarning: Recall and F-score are ill-defined and being set to 0.0 in labels with no true samples.\n",
      "  'recall', 'true', average, warn_for)\n",
      "C:\\Users\\dkond\\Anaconda3\\lib\\site-packages\\sklearn\\metrics\\classification.py:1145: UndefinedMetricWarning: Recall and F-score are ill-defined and being set to 0.0 in labels with no true samples.\n",
      "  'recall', 'true', average, warn_for)\n",
      "C:\\Users\\dkond\\Anaconda3\\lib\\site-packages\\sklearn\\metrics\\classification.py:1145: UndefinedMetricWarning: Recall and F-score are ill-defined and being set to 0.0 in labels with no true samples.\n",
      "  'recall', 'true', average, warn_for)\n"
     ]
    }
   ],
   "source": [
    "#Bernoulli NB\n",
    "model = BernoulliNB()\n",
    "model.fit(X_train, y_train)\n",
    "pred = model.predict(X_test)\n",
    "print('Accuracy: ', accuracy_score(pred, y_test))\n",
    "print(classification_report(pred, y_test))"
   ]
  },
  {
   "cell_type": "code",
   "execution_count": 78,
   "metadata": {},
   "outputs": [
    {
     "data": {
      "image/png": "[encoded data removed]",
      "text/plain": [
       "<Figure size 432x288 with 1 Axes>"
      ]
     },
     "metadata": {
      "needs_background": "light"
     },
     "output_type": "display_data"
    }
   ],
   "source": [
    "#predicting probabilities:\n",
    "model_prediction_prob = model.predict_proba(X_test)[:, 1]\n",
    "#getting true positives and false positives\n",
    "fpr, tpr, _ = roc_curve(y_test.ravel(), model_prediction_prob.ravel())\n",
    "roc_auc = roc_auc_score(y_test.ravel(), model_prediction_prob.ravel())\n",
    "#plotting data\n",
    "plt.figure()\n",
    "plt.plot(fpr, tpr, color='red', lw=2,\n",
    "         label='Bernoulli NB ROC AUC={0:.3f}'.format(roc_auc))\n",
    "plt.plot([0, 1], [0, 1], color='navy', lw=1, linestyle='--')\n",
    "plt.legend(loc=\"lower right\")\n",
    "plt.xlim([0.0, 1.0])\n",
    "plt.ylim([0.0, 1.05])\n",
    "plt.xlabel('False Positive rate')\n",
    "plt.ylabel('True Positive rate')\n",
    "plt.title('Bernoulli NB ROC Curve')\n",
    "plt.show()"
   ]
  },
  {
   "cell_type": "code",
   "execution_count": 82,
   "metadata": {},
   "outputs": [
    {
     "name": "stdout",
     "output_type": "stream",
     "text": [
      "Accuracy:  0.4626865671641791\n",
      "              precision    recall  f1-score   support\n",
      "\n",
      "           0       0.37      0.60      0.45        25\n",
      "           1       0.62      0.38      0.47        42\n",
      "\n",
      "   micro avg       0.46      0.46      0.46        67\n",
      "   macro avg       0.49      0.49      0.46        67\n",
      "weighted avg       0.52      0.46      0.46        67\n",
      "\n"
     ]
    },
    {
     "name": "stderr",
     "output_type": "stream",
     "text": [
      "C:\\Users\\dkond\\Anaconda3\\lib\\site-packages\\sklearn\\linear_model\\stochastic_gradient.py:166: FutureWarning: max_iter and tol parameters have been added in SGDClassifier in 0.19. If both are left unset, they default to max_iter=5 and tol=None. If tol is not None, max_iter defaults to max_iter=1000. From 0.21, default max_iter will be 1000, and default tol will be 1e-3.\n",
      "  FutureWarning)\n"
     ]
    }
   ],
   "source": [
    "#SGD Classifier\n",
    "model = SGDClassifier(loss ='log', penalty ='l2', alpha=0.001, random_state= _RANDOM_STATE_V)\n",
    "model.fit(X_train, y_train)\n",
    "pred = model.predict(X_test)\n",
    "print('Accuracy: ', accuracy_score(pred, y_test))\n",
    "print(classification_report(pred, y_test))"
   ]
  },
  {
   "cell_type": "code",
   "execution_count": 83,
   "metadata": {},
   "outputs": [
    {
     "name": "stderr",
     "output_type": "stream",
     "text": [
      "C:\\Users\\dkond\\Anaconda3\\lib\\site-packages\\sklearn\\linear_model\\base.py:297: RuntimeWarning: overflow encountered in exp\n",
      "  np.exp(prob, prob)\n"
     ]
    },
    {
     "data": {
      "image/png": "[encoded data removed]",
      "text/plain": [
       "<Figure size 432x288 with 1 Axes>"
      ]
     },
     "metadata": {
      "needs_background": "light"
     },
     "output_type": "display_data"
    }
   ],
   "source": [
    "#predicting probabilities:\n",
    "model_prediction_prob = model.predict_proba(X_test)[:, 1]\n",
    "#getting true positives and false positives\n",
    "fpr, tpr, _ = roc_curve(y_test.ravel(), model_prediction_prob.ravel())\n",
    "roc_auc = roc_auc_score(y_test.ravel(), model_prediction_prob.ravel())\n",
    "#plotting data\n",
    "plt.figure()\n",
    "plt.plot(fpr, tpr, color='red', lw=2,\n",
    "         label='SCG Classifier ROC AUC={0:.3f}'.format(roc_auc))\n",
    "plt.plot([0, 1], [0, 1], color='navy', lw=1, linestyle='--')\n",
    "plt.legend(loc=\"lower right\")\n",
    "plt.xlim([0.0, 1.0])\n",
    "plt.ylim([0.0, 1.05])\n",
    "plt.xlabel('False Positive rate')\n",
    "plt.ylabel('True Positive rate')\n",
    "plt.title('SCD Classifier ROC Curve')\n",
    "plt.show()"
   ]
  },
  {
   "cell_type": "code",
   "execution_count": 86,
   "metadata": {},
   "outputs": [
    {
     "name": "stdout",
     "output_type": "stream",
     "text": [
      "Accuracy:  0.6119402985074627\n",
      "              precision    recall  f1-score   support\n",
      "\n",
      "           0       1.00      0.61      0.76        67\n",
      "           1       0.00      0.00      0.00         0\n",
      "\n",
      "   micro avg       0.61      0.61      0.61        67\n",
      "   macro avg       0.50      0.31      0.38        67\n",
      "weighted avg       1.00      0.61      0.76        67\n",
      "\n"
     ]
    },
    {
     "name": "stderr",
     "output_type": "stream",
     "text": [
      "C:\\Users\\dkond\\Anaconda3\\lib\\site-packages\\sklearn\\metrics\\classification.py:1145: UndefinedMetricWarning: Recall and F-score are ill-defined and being set to 0.0 in labels with no true samples.\n",
      "  'recall', 'true', average, warn_for)\n",
      "C:\\Users\\dkond\\Anaconda3\\lib\\site-packages\\sklearn\\metrics\\classification.py:1145: UndefinedMetricWarning: Recall and F-score are ill-defined and being set to 0.0 in labels with no true samples.\n",
      "  'recall', 'true', average, warn_for)\n",
      "C:\\Users\\dkond\\Anaconda3\\lib\\site-packages\\sklearn\\metrics\\classification.py:1145: UndefinedMetricWarning: Recall and F-score are ill-defined and being set to 0.0 in labels with no true samples.\n",
      "  'recall', 'true', average, warn_for)\n"
     ]
    },
    {
     "data": {
      "image/png": "[encoded data removed]",
      "text/plain": [
       "<Figure size 432x288 with 1 Axes>"
      ]
     },
     "metadata": {
      "needs_background": "light"
     },
     "output_type": "display_data"
    }
   ],
   "source": [
    "#Support Vector Machine Classifier\n",
    "C = [0.0001, 0.0005, 0.001, 0.005, 0.01, 0.02, 0.05, 0.1, 0.2, 0.5, 1.0]\n",
    "Ecv_scores = []\n",
    "for i in C:\n",
    "    model = SVC(C=i, kernel='rbf', gamma='auto', probability=True)\n",
    "    model.fit(X_train, y_train)\n",
    "    cv_scores = cross_val_score(model, X_train, y_train, cv=10)\n",
    "    Ecv_scores.append(1-np.mean(cv_scores))\n",
    "plt.scatter(C, Ecv_scores)\n",
    "model = SVC(C=1.0, kernel='rbf', gamma='auto')\n",
    "model.fit(X_train, y_train)\n",
    "pred = model.predict(X_test)\n",
    "print('Accuracy: ', accuracy_score(pred, y_test))\n",
    "print(classification_report(pred, y_test))"
   ]
  },
  {
   "cell_type": "code",
   "execution_count": 89,
   "metadata": {},
   "outputs": [
    {
     "data": {
      "image/png": "[encoded data removed]",
      "text/plain": [
       "<Figure size 432x288 with 1 Axes>"
      ]
     },
     "metadata": {
      "needs_background": "light"
     },
     "output_type": "display_data"
    }
   ],
   "source": [
    "#predicting probabilities:\n",
    "model_prediction_prob = model.predict(X_test)\n",
    "#getting true positives and false positives\n",
    "fpr, tpr, _ = roc_curve(y_test.ravel(), model_prediction_prob.ravel())\n",
    "roc_auc = roc_auc_score(y_test.ravel(), model_prediction_prob.ravel())\n",
    "#plotting data\n",
    "plt.figure()\n",
    "plt.plot(fpr, tpr, color='red', lw=2,\n",
    "         label='SVM Classifier ROC AUC={0:.3f}'.format(roc_auc))\n",
    "plt.plot([0, 1], [0, 1], color='navy', lw=1, linestyle='--')\n",
    "plt.legend(loc=\"lower right\")\n",
    "plt.xlim([0.0, 1.0])\n",
    "plt.ylim([0.0, 1.05])\n",
    "plt.xlabel('False Positive rate')\n",
    "plt.ylabel('True Positive rate')\n",
    "plt.title('SVM Classifier ROC Curve')\n",
    "plt.show()"
   ]
  },
  {
   "cell_type": "markdown",
   "metadata": {},
   "source": [
    "#Random Forest Classifier"
   ]
  },
  {
   "cell_type": "code",
   "execution_count": 90,
   "metadata": {},
   "outputs": [
    {
     "name": "stdout",
     "output_type": "stream",
     "text": [
      "Accuracy:  0.4925373134328358\n",
      "              precision    recall  f1-score   support\n",
      "\n",
      "           0       0.59      0.59      0.59        41\n",
      "           1       0.35      0.35      0.35        26\n",
      "\n",
      "   micro avg       0.49      0.49      0.49        67\n",
      "   macro avg       0.47      0.47      0.47        67\n",
      "weighted avg       0.49      0.49      0.49        67\n",
      "\n"
     ]
    }
   ],
   "source": [
    "model = RandomForestClassifier(n_estimators=100, max_depth=10)\n",
    "model.fit(X_train, y_train)\n",
    "pred = model.predict(X_test)\n",
    "print('Accuracy: ', accuracy_score(pred, y_test))\n",
    "print(classification_report(pred, y_test))"
   ]
  },
  {
   "cell_type": "code",
   "execution_count": 91,
   "metadata": {},
   "outputs": [
    {
     "data": {
      "image/png": "[encoded data removed]",
      "text/plain": [
       "<Figure size 432x288 with 1 Axes>"
      ]
     },
     "metadata": {
      "needs_background": "light"
     },
     "output_type": "display_data"
    }
   ],
   "source": [
    "#predicting probabilities:\n",
    "model_prediction_prob = model.predict_proba(X_test)[:, 1]\n",
    "#getting true positives and false positives\n",
    "fpr, tpr, _ = roc_curve(y_test.ravel(), model_prediction_prob.ravel())\n",
    "roc_auc = roc_auc_score(y_test.ravel(), model_prediction_prob.ravel())\n",
    "#plotting data\n",
    "plt.figure()\n",
    "plt.plot(fpr, tpr, color='red', lw=2,\n",
    "         label='Random Forest Classifier ROC AUC={0:.3f}'.format(roc_auc))\n",
    "plt.plot([0, 1], [0, 1], color='navy', lw=1, linestyle='--')\n",
    "plt.legend(loc=\"lower right\")\n",
    "plt.xlim([0.0, 1.0])\n",
    "plt.ylim([0.0, 1.05])\n",
    "plt.xlabel('False Positive rate')\n",
    "plt.ylabel('True Positive rate')\n",
    "plt.title('Randon Forest Classifier ROC Curve')\n",
    "plt.show()"
   ]
  },
  {
   "cell_type": "markdown",
   "metadata": {},
   "source": [
    "#Ada Boost Classifier"
   ]
  },
  {
   "cell_type": "code",
   "execution_count": 96,
   "metadata": {},
   "outputs": [
    {
     "name": "stdout",
     "output_type": "stream",
     "text": [
      "Accuracy:  0.5671641791044776\n",
      "              precision    recall  f1-score   support\n",
      "\n",
      "           0       0.66      0.64      0.65        42\n",
      "           1       0.42      0.44      0.43        25\n",
      "\n",
      "   micro avg       0.57      0.57      0.57        67\n",
      "   macro avg       0.54      0.54      0.54        67\n",
      "weighted avg       0.57      0.57      0.57        67\n",
      "\n"
     ]
    }
   ],
   "source": [
    "model = AdaBoostClassifier(n_estimators=100)\n",
    "model.fit(X_train, y_train)\n",
    "pred = model.predict(X_test)\n",
    "print('Accuracy: ', accuracy_score(pred, y_test))\n",
    "print(classification_report(pred, y_test))"
   ]
  },
  {
   "cell_type": "code",
   "execution_count": 97,
   "metadata": {},
   "outputs": [
    {
     "data": {
      "image/png": "[encoded data removed]",
      "text/plain": [
       "<Figure size 432x288 with 1 Axes>"
      ]
     },
     "metadata": {
      "needs_background": "light"
     },
     "output_type": "display_data"
    }
   ],
   "source": [
    "#predicting probabilities:\n",
    "model_prediction_prob = model.predict_proba(X_test)[:, 1]\n",
    "#getting true positives and false positives\n",
    "fpr, tpr, _ = roc_curve(y_test.ravel(), model_prediction_prob.ravel())\n",
    "roc_auc = roc_auc_score(y_test.ravel(), model_prediction_prob.ravel())\n",
    "#plotting data\n",
    "plt.figure()\n",
    "plt.plot(fpr, tpr, color='red', lw=2,\n",
    "         label='AdaBoost Classifier ROC AUC={0:.3f}'.format(roc_auc))\n",
    "plt.plot([0, 1], [0, 1], color='navy', lw=1, linestyle='--')\n",
    "plt.legend(loc=\"lower right\")\n",
    "plt.xlim([0.0, 1.0])\n",
    "plt.ylim([0.0, 1.05])\n",
    "plt.xlabel('False Positive rate')\n",
    "plt.ylabel('True Positive rate')\n",
    "plt.title('AdaBoost Classifier ROC Curve')\n",
    "plt.show()"
   ]
  },
  {
   "cell_type": "markdown",
   "metadata": {},
   "source": [
    "### Final comment on result : From all the above ROC curves and accuracies, we can confirm that logistic Regression classifier performs better with given dataset"
   ]
  }
 ],
 "metadata": {
  "kernelspec": {
   "display_name": "Python 3",
   "language": "python",
   "name": "python3"
  },
  "language_info": {
   "codemirror_mode": {
    "name": "ipython",
    "version": 3
   },
   "file_extension": ".py",
   "mimetype": "text/x-python",
   "name": "python",
   "nbconvert_exporter": "python",
   "pygments_lexer": "ipython3",
   "version": "3.7.1"
  }
 },
 "nbformat": 4,
 "nbformat_minor": 2
}
