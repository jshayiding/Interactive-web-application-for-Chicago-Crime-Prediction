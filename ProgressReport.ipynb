{
 "cells": [
  {
   "cell_type": "markdown",
   "metadata": {},
   "source": [
    "#                                    Progress Report - Crime Pricers"
   ]
  },
  {
   "cell_type": "markdown",
   "metadata": {},
   "source": [
    "## Project introduction: an introduction that discusses the data you are analyzing, and the question or questions you are investigating.\n",
    "\n",
    " - We are trying to predict house prices in Chicago based on Chicago Crime and Real estate data.\n",
    " - We are analyzing Chicago crime and real estate dataset, as well as Chicago geojson data to project data on map\n",
    " - Does house prices change with respect crime? If yes, does it increase or decrese?\n",
    " - Does certain type of crime have higher impact on house prices?\n"
   ]
  },
  {
   "cell_type": "markdown",
   "metadata": {},
   "source": [
    "## Any changes: a discussion whether your scope has changed since the check-inproposal slides. What did you aim to do that you will not do and what have you added to the project?\n",
    "\n",
    "- No changes to scope. We still aim to create a model on predicting house price (price per squared foot) based on crime in the neighborhood. And we'll have an interactive map application to project crime, price for each neighborhood in Chicago"
   ]
  },
  {
   "cell_type": "markdown",
   "metadata": {},
   "source": [
    "## Data cleaning: show clearly how you cleaned your data."
   ]
  },
  {
   "cell_type": "markdown",
   "metadata": {},
   "source": [
    "### Real estate Data\n",
    "- The real estate data we got from RedFin is a projected price per squared foot for Chicago's neighborhoods from Feb 2012 up to current\n",
    "- The geojson file of Chicago's neighborhood boundary we got from Chicago Data Portal\n",
    "- The real estate data's neighborhood name and the geojson does not fit together. We have to manually map them.\n",
    "- Then we created a data frame from the mapped neighborhoods and their prices through time"
   ]
  },
  {
   "cell_type": "markdown",
   "metadata": {},
   "source": [
    "### Crime Data\n",
    "- Crime Data had many unpopulated columns that had to do with location (lat/lon) and coordinates as well as description\n",
    "that were no importatnt to the visualizations or model. These columns were dropped\n",
    "- The reduction in size made the already very large file much smaller. We aimed to use feather to compress data further\n",
    "- Compressed data is created by user using feather or by Dash CrimeApp when supplied a csv as an arguement"
   ]
  },
  {
   "cell_type": "code",
   "execution_count": null,
   "metadata": {},
   "outputs": [],
   "source": []
  },
  {
   "cell_type": "markdown",
   "metadata": {},
   "source": [
    "## Exploratory data analysis: explain what your data looks like (words are fine, but visualizations are often better). Include any interesting issues or preliminary conclusions you have about your data\n",
    " \n",
    "### Crime Data: \n",
    "- Granularity: Each row represent 1 crime reported to the police.\n",
    "- Scope: List of crimes recorded in Chicago and its all districts from 2014 - 2018\n",
    "- Temporality: There are timestamps for recorded incidents and dataset begins with chronological order of date.\n",
    "- Faithfulness: Police Departments intention are to be transparent about crime and the reporting of the incidents due to their work to provide law enforcement to seek justice. Some neighborhoods may report more crimes than other, regardless of their seriousness, which may result in biased data\n",
    "\n",
    "### Real Estate Data:\n",
    "- Granularity: Each row represents 1 neighborhood in Chicago.\n",
    "- Scope: Not all neighborhoods are listed: 84 among 98 neighborhoods (from Chicago geojson file). Columns represent price in 1 month\n",
    "- Temporality: Price listed for each month from Feb 2012 to current.\n",
    "- Faithfulness: Prices are calculated based on listed price. Some neighborhoods are quite large, therefore the average price will not tell the truth about that area"
   ]
  },
  {
   "cell_type": "code",
   "execution_count": 4,
   "metadata": {},
   "outputs": [
    {
     "name": "stderr",
     "output_type": "stream",
     "text": [
      "/anaconda3/lib/python3.7/site-packages/plotly/graph_objs/_deprecations.py:39: DeprecationWarning:\n",
      "\n",
      "plotly.graph_objs.Data is deprecated.\n",
      "Please replace it with a list or tuple of instances of the following types\n",
      "  - plotly.graph_objs.Scatter\n",
      "  - plotly.graph_objs.Bar\n",
      "  - plotly.graph_objs.Area\n",
      "  - plotly.graph_objs.Histogram\n",
      "  - etc.\n",
      "\n",
      "\n"
     ]
    },
    {
     "name": "stdout",
     "output_type": "stream",
     "text": [
      "High five! You successfully sent some data to your account on plotly. View your plot in your browser at https://plot.ly/~jemiar/0 or inside your plot.ly account where it is named 'county-level-choropleths-python'\n"
     ]
    },
    {
     "name": "stderr",
     "output_type": "stream",
     "text": [
      "/anaconda3/lib/python3.7/site-packages/IPython/core/display.py:689: UserWarning:\n",
      "\n",
      "Consider using IPython.display.IFrame instead\n",
      "\n"
     ]
    },
    {
     "data": {
      "text/html": [
       "<iframe id=\"igraph\" scrolling=\"no\" style=\"border:none;\" seamless=\"seamless\" src=\"https://plot.ly/~jemiar/0.embed\" height=\"600px\" width=\"100%\"></iframe>"
      ],
      "text/plain": [
       "<plotly.tools.PlotlyDisplay object>"
      ]
     },
     "execution_count": 4,
     "metadata": {},
     "output_type": "execute_result"
    }
   ],
   "source": [
    "import json\n",
    "\n",
    "with open('chiNeighborhood.geojson') as f:\n",
    "    geo = f.read()\n",
    "    geojson = json.loads(geo)\n",
    "    \n",
    "import numpy as np\n",
    "\n",
    "longs = []\n",
    "lats = []\n",
    "for k in range(len(geojson['features'])):\n",
    "    neighborhood_coords = np.array(geojson['features'][k]['geometry']['coordinates'][0][0])\n",
    "    m, M = neighborhood_coords[:, 0].min(), neighborhood_coords[:, 0].max()\n",
    "    longs.append(0.5 * (m + M))\n",
    "    m, M = neighborhood_coords[:, 1].min(), neighborhood_coords[:, 1].max()\n",
    "    lats.append(0.5 * (m + M))\n",
    "    \n",
    "names = [geojson['features'][k]['properties']['pri_neigh'] for k in range(len(geojson['features']))]\n",
    "\n",
    "import plotly.plotly as py\n",
    "import plotly.graph_objs as graph_objs\n",
    "\n",
    "mapbox_access_token = \"pk.eyJ1IjoiamFja3AiLCJhIjoidGpzN0lXVSJ9.7YK6eRwUNFwd3ODZff6JvA\"\n",
    "\n",
    "data = graph_objs.Data([\n",
    "    graph_objs.Scattermapbox(\n",
    "        lat=lats,\n",
    "        lon=longs,\n",
    "        mode='markers',\n",
    "        text=names,\n",
    "        marker=dict(size=5, color='rgb(0,0,255)'),\n",
    "        hoverinfo='text'\n",
    "    )\n",
    "])\n",
    "layout = graph_objs.Layout(\n",
    "    height=600,\n",
    "    autosize=True,\n",
    "    hovermode='closest',\n",
    "    mapbox=dict(\n",
    "        layers=[\n",
    "            dict(\n",
    "                sourcetype = 'geojson',\n",
    "                source = geojson,\n",
    "                type = 'fill',\n",
    "                color = 'rgba(163,22,19,0.2)'\n",
    "            )\n",
    "        ],\n",
    "        accesstoken=mapbox_access_token,\n",
    "        bearing=0,\n",
    "        center=dict(\n",
    "            lat=41.845,\n",
    "            lon=-87.6231\n",
    "        ),\n",
    "        pitch=0,\n",
    "        zoom=9,\n",
    "        style='light'\n",
    "    ),\n",
    ")\n",
    "\n",
    "fig = dict(data=data, layout=layout)\n",
    "py.iplot(fig, filename='county-level-choropleths-python')"
   ]
  },
  {
   "cell_type": "markdown",
   "metadata": {},
   "source": [
    "##### At least one visualization that tests an interesting hypothesis, along with an explanation about why you thought this was an interesting hypothesis to investigate. \n",
    "-When iterating through crime years for respective neightborhoods you can see how crime affects prices or when neighborhoods were relatively mnore dangerous than other years"
   ]
  },
  {
   "cell_type": "code",
   "execution_count": 10,
   "metadata": {},
   "outputs": [],
   "source": [
    "# imports\n",
    "import pandas as pd\n",
    "import numpy as np\n",
    "import plotly.graph_objs as go\n",
    "import plotly.plotly as py\n",
    "import plotly\n",
    "import matplotlib.pyplot as plt\n",
    "%matplotlib inline  \n",
    "import feather\n",
    "import os\n",
    "import time\n",
    "import calendar\n",
    "\n",
    "plotly.tools.set_credentials_file(username='clazca2', api_key='jpSlGELzcICDEwXXsdeH')\n",
    "\n",
    "# data\n",
    "house_df = feather.read_dataframe('houseData.feather')\n",
    "crime_df = feather.read_dataframe('crimeData.feather')\n"
   ]
  },
  {
   "cell_type": "code",
   "execution_count": 8,
   "metadata": {},
   "outputs": [
    {
     "data": {
      "image/png": "[encoded data removed]",
      "text/plain": [
       "<Figure size 432x288 with 1 Axes>"
      ]
     },
     "metadata": {
      "needs_background": "light"
     },
     "output_type": "display_data"
    }
   ],
   "source": [
    "# Lincoln Park Line graph over years for real estate\n",
    "df = house_df[house_df.area == 'Lincoln Park']\n",
    "\n",
    "year = list(range(2012,2019))\n",
    "means = [ df.iloc[0,0],df.iloc[0,1],df.iloc[0,2],df.iloc[0,3],df.iloc[0,4],df.iloc[0,5],df.iloc[0,6] ]\n",
    "\n",
    "plt.plot(year, means)\n",
    "plt.xlabel('Years')\n",
    "plt.ylabel('Mean Real Estate')\n",
    "plt.title('Annual Mean House Sale Price in Lincoln Park by Year')\n",
    "plt.show()"
   ]
  },
  {
   "cell_type": "code",
   "execution_count": 9,
   "metadata": {},
   "outputs": [
    {
     "data": {
      "image/png": "[encoded data removed]",
      "text/plain": [
       "<Figure size 432x288 with 1 Axes>"
      ]
     },
     "metadata": {
      "needs_background": "light"
     },
     "output_type": "display_data"
    }
   ],
   "source": [
    "# Lincoln Park Line graph over years for real estate\n",
    "df = house_df[house_df.community_code == 23.0] # Humbolt Park\n",
    "\n",
    "year = list(range(2012,2019))\n",
    "means = [ df.iloc[0,0],df.iloc[0,1],df.iloc[0,2],df.iloc[0,3],df.iloc[0,4],df.iloc[0,5],df.iloc[0,6] ]\n",
    "\n",
    "plt.plot(year, means)\n",
    "plt.xlabel('Years')\n",
    "plt.ylabel('Mean Real Estate')\n",
    "plt.title('Annual Mean House Sale Price in Humbolt Park by Year')\n",
    "plt.show()"
   ]
  },
  {
   "cell_type": "code",
   "execution_count": 11,
   "metadata": {},
   "outputs": [],
   "source": [
    "def LP_CrimeBarPlot_byYear(year):\n",
    "    # Lincoln Park Crime Analysis , explore years by changing year_df year predicate and compare to real estate\n",
    "    selected_crimes = ['ASSAULT','BURGLARY','ROBBERY','MOTOR VEHICLE THEFT','HOMICIDE'] \n",
    "    labels = ['ASSAULT','BURGLARY','ROBBERY','VEHICLE THEFT','HOMICIDE'] \n",
    "\n",
    "    year_df = crime_df[crime_df.year == year]\n",
    "    year_df = year_df[year_df.community_area == 7.0]\n",
    "\n",
    "    x = selected_crimes\n",
    "    y = []\n",
    "    for i in selected_crimes:\n",
    "        crimesCommited = len(year_df[year_df.primary_type == i])\n",
    "        y.append( crimesCommited )\n",
    "\n",
    "    plt.figure(figsize=(12, 8))\n",
    "    freq_series = pd.Series(y)\n",
    "    ax = freq_series.plot(kind='bar')\n",
    "    ax.set_xticklabels(labels)\n",
    "    ax.set_title('Lincoln Park Crime by Types - 2018')\n",
    "    ax.set_xlabel('Crime Type')\n",
    "    ax.set_ylabel('Frequency')"
   ]
  },
  {
   "cell_type": "code",
   "execution_count": 12,
   "metadata": {},
   "outputs": [],
   "source": [
    "def HP_CrimeBarPlot_byYear(year):\n",
    "    # Humbolt Park Crime Analysis , explore years by changing year_df year predicate and compare to real estate\n",
    "    selected_crimes = ['ASSAULT','BURGLARY','ROBBERY','MOTOR VEHICLE THEFT','HOMICIDE'] \n",
    "    labels = ['ASSAULT','BURGLARY','ROBBERY','VEHICLE THEFT','HOMICIDE'] \n",
    "\n",
    "    year_df = crime_df[crime_df.year == year]\n",
    "    year_df = year_df[year_df.community_area == 23.0]\n",
    "\n",
    "    x = selected_crimes\n",
    "    y = []\n",
    "    for i in selected_crimes:\n",
    "        crimesCommited = len(year_df[year_df.primary_type == i])\n",
    "        y.append( crimesCommited )\n",
    "\n",
    "    plt.figure(figsize=(12, 8))\n",
    "    freq_series = pd.Series(y)\n",
    "    ax = freq_series.plot(kind='bar')\n",
    "    ax.set_xticklabels(labels)\n",
    "    ax.set_title('Humbolt Park Crime by Types - 2018')\n",
    "    ax.set_xlabel('Crime Type')\n",
    "    ax.set_ylabel('Frequency')"
   ]
  },
  {
   "cell_type": "code",
   "execution_count": null,
   "metadata": {},
   "outputs": [],
   "source": [
    "Test visualizations below"
   ]
  },
  {
   "cell_type": "code",
   "execution_count": 14,
   "metadata": {},
   "outputs": [
    {
     "data": {
      "image/png": "[encoded data removed]",
      "text/plain": [
       "<Figure size 864x576 with 1 Axes>"
      ]
     },
     "metadata": {
      "needs_background": "light"
     },
     "output_type": "display_data"
    }
   ],
   "source": [
    "# Test out for Humbolt Park from eyars 2012-2018\n",
    "HP_CrimeBarPlot_byYear(2015)"
   ]
  },
  {
   "cell_type": "code",
   "execution_count": 15,
   "metadata": {},
   "outputs": [
    {
     "data": {
      "image/png": "[encoded data removed]",
      "text/plain": [
       "<Figure size 864x576 with 1 Axes>"
      ]
     },
     "metadata": {
      "needs_background": "light"
     },
     "output_type": "display_data"
    }
   ],
   "source": [
    "# Test out for Humbolt Park from eyars 2012-2018\n",
    "LP_CrimeBarPlot_byYear(2018)"
   ]
  },
  {
   "cell_type": "markdown",
   "metadata": {},
   "source": [
    "## At least one ML analysis on your dataset, along with a baseline comparison and an interpretation of the result that you obtain"
   ]
  },
  {
   "cell_type": "code",
   "execution_count": null,
   "metadata": {},
   "outputs": [],
   "source": []
  },
  {
   "cell_type": "markdown",
   "metadata": {},
   "source": [
    "## Reflection: a discussion of the following:\n",
    "1. What is hardest part of the project that you’ve encountered so far?\n",
    "  - Finding a way to combine crime and realestate datasets to run ML model. Mapping data between multiple datasets is quite hard.\n",
    "2. What are your initial insights?\n",
    "  - We haven't been able to achieve any insights just yet.\n",
    "3. Are there any concrete results you can show at this point? If not, why not?\n",
    "  - Interactive application to display result is up and running. \n",
    "4. Going forward, what are the current biggest problems you’re facing?\n",
    "  - Feeding ML model results through interactive application. \n",
    "5. Do you think you are on track with your project? If not, what parts do you need to dedicate more time to?\n",
    "  - We aim to map the data soon, we think we're going to be on track.\n",
    "6. Given your initial exploration of the data, is it worth proceeding with your project, why? If not, how are you going to change your project and why do you think it’s better than your current results?\n",
    "  - We'll try to map the data and then see how they look.\n"
   ]
  },
  {
   "cell_type": "markdown",
   "metadata": {},
   "source": [
    "## Next steps: What you plan to accomplish in the next month and how you plan to evaluate whether your project achieved the goals you set for it.\n",
    "\n",
    "- We planned to run various ML models with combined crime and real estate data set and evaluate the results through test set.\n",
    "- Intergrated generated results into interactive application and rigourously test it. "
   ]
  }
 ],
 "metadata": {
  "kernelspec": {
   "display_name": "Python 3",
   "language": "python",
   "name": "python3"
  },
  "language_info": {
   "codemirror_mode": {
    "name": "ipython",
    "version": 3
   },
   "file_extension": ".py",
   "mimetype": "text/x-python",
   "name": "python",
   "nbconvert_exporter": "python",
   "pygments_lexer": "ipython3",
   "version": "3.7.1"
  }
 },
 "nbformat": 4,
 "nbformat_minor": 2
}
