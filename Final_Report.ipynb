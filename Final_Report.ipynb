{
 "cells": [
  {
   "cell_type": "markdown",
   "metadata": {},
   "source": [
    "## CS 418 - Introduction to Data Science Project Report\n",
    "## Project : An Analysis on Chicago Crime & Real Estate\n",
    "### Can we find the link between Chicago crime and real estate and predict future prices based on current crime record in each community?\n",
    "**Team Crime Pricers (with GitHub handle)**: Cesar Lazcano (@clazca2, @cesarLazcano), Dheeraj Kondaparthi (@dkondaparthi), Iniobong Akpan (@Innyhandz), Jurat Shayiding (@jshayiding, @julaiti), HoangMinh HuynhNguyen (@jemiar)  \n",
    "**Link to GitHub**: https://github.com/edgeslab/cs418-project-crime-pricers/blob/master/Final_Report.ipynb"
   ]
  },
  {
   "cell_type": "markdown",
   "metadata": {},
   "source": [
    "## 1. Introduction\n",
    "In this project, we tried to find the link between crime data and real estate data in 77 communities in Chicago. If there is a link, we tried to understand what their correlation looks like.  \n",
    "In our investigation, we used, cleaned and combined crime data, geomap data from the City of Chicago, and real estate data from Redfin data center.  \n",
    "Besides trying to understand crime and real estate data correlation, we also tried to:\n",
    "* Build Machine Learning model to classify communities into 2 classes: price likely to rise, and price likely to drop based on crime data in each community\n",
    "* Build Machine Learning model to predict real estate price (per square foot) for each community based on crime record from the previous year\n",
    "* Build an interactive web application for users to explore crime and real estate data in Chicago from 2012 to present"
   ]
  },
  {
   "cell_type": "markdown",
   "metadata": {},
   "source": [
    "## 2. Datasets and EDA\n",
    "### 2.1 Crime dataset\n",
    "* Source: Google Cloud BigQuery\n",
    "* Structure: Tabular, csv formated\n",
    "* Granularity: Each record represents 1 recorded crime\n",
    "* Scope: Crimes recorded in Chicago, satisfy the scope of our project\n",
    "* Temporality: From 2010 to 2018\n",
    "* Faithfulness: Crimes were recorded by Chicago police officers. There are missing values, typos, different values for same block, crime types, .etc\n",
    "#### Data cleaning: \n",
    "Due to the large crime data file, we use Google Cloud BigQuery to retrieve the summarized data we need for our project, and saved it to crime_data.csv (https://github.com/edgeslab/cs418-project-crime-pricers/blob/master/crime_data.csv)  \n",
    "Data is grouped by community_area, year, and primary_type. Null community_area and primary_type are dropped. Community codes are guaranteed to be from 1. We're only interested in data from 2010 to 2018. The last column represents the number of crimes recorded of a crime type in 1 community in a year"
   ]
  },
  {
   "cell_type": "code",
   "execution_count": null,
   "metadata": {},
   "outputs": [],
   "source": [
    "#Query to get summarized data using Google Cloud BigQuery\n",
    "%%bigquery df\n",
    "\n",
    "SELECT community_area, year, primary_type, COUNT(*) as count FROM `bigquery-public-data.chicago_crime.crime`\n",
    "WHERE community_area IS NOT NULL AND year > 2009  AND year < 2019 AND community_area > 0 AND primary_type IS NOT NULL\n",
    "GROUP BY community_area, year, primary_type\n",
    "ORDER BY community_area, year, primary_type"
   ]
  },
  {
   "cell_type": "markdown",
   "metadata": {},
   "source": [
    "We then pivot the data so that we have a dataframe that each row represents 1 community in a year. The columns are community_code, year, number of each crime type in a year."
   ]
  },
  {
   "cell_type": "code",
   "execution_count": 1,
   "metadata": {},
   "outputs": [
    {
     "data": {
      "text/html": [
       "<div>\n",
       "<style scoped>\n",
       "    .dataframe tbody tr th:only-of-type {\n",
       "        vertical-align: middle;\n",
       "    }\n",
       "\n",
       "    .dataframe tbody tr th {\n",
       "        vertical-align: top;\n",
       "    }\n",
       "\n",
       "    .dataframe thead th {\n",
       "        text-align: right;\n",
       "    }\n",
       "</style>\n",
       "<table border=\"1\" class=\"dataframe\">\n",
       "  <thead>\n",
       "    <tr style=\"text-align: right;\">\n",
       "      <th></th>\n",
       "      <th>community</th>\n",
       "      <th>year</th>\n",
       "      <th>STALKING</th>\n",
       "      <th>CONCEALED CARRY LICENSE VIOLATION</th>\n",
       "      <th>CRIMINAL TRESPASS</th>\n",
       "      <th>LIQUOR LAW VIOLATION</th>\n",
       "      <th>BATTERY</th>\n",
       "      <th>OTHER NARCOTIC VIOLATION</th>\n",
       "      <th>HOMICIDE</th>\n",
       "      <th>THEFT</th>\n",
       "      <th>...</th>\n",
       "      <th>NON-CRIMINAL</th>\n",
       "      <th>ARSON</th>\n",
       "      <th>ROBBERY</th>\n",
       "      <th>PUBLIC INDECENCY</th>\n",
       "      <th>GAMBLING</th>\n",
       "      <th>KIDNAPPING</th>\n",
       "      <th>NON-CRIMINAL (SUBJECT SPECIFIED)</th>\n",
       "      <th>WEAPONS VIOLATION</th>\n",
       "      <th>BURGLARY</th>\n",
       "      <th>PUBLIC PEACE VIOLATION</th>\n",
       "    </tr>\n",
       "  </thead>\n",
       "  <tbody>\n",
       "    <tr>\n",
       "      <th>0</th>\n",
       "      <td>1</td>\n",
       "      <td>2011</td>\n",
       "      <td>4</td>\n",
       "      <td>0</td>\n",
       "      <td>162</td>\n",
       "      <td>14</td>\n",
       "      <td>994</td>\n",
       "      <td>0</td>\n",
       "      <td>4</td>\n",
       "      <td>1135</td>\n",
       "      <td>...</td>\n",
       "      <td>0</td>\n",
       "      <td>7</td>\n",
       "      <td>251</td>\n",
       "      <td>0</td>\n",
       "      <td>9</td>\n",
       "      <td>3</td>\n",
       "      <td>0</td>\n",
       "      <td>43</td>\n",
       "      <td>258</td>\n",
       "      <td>54</td>\n",
       "    </tr>\n",
       "    <tr>\n",
       "      <th>1</th>\n",
       "      <td>1</td>\n",
       "      <td>2012</td>\n",
       "      <td>3</td>\n",
       "      <td>0</td>\n",
       "      <td>183</td>\n",
       "      <td>21</td>\n",
       "      <td>991</td>\n",
       "      <td>0</td>\n",
       "      <td>6</td>\n",
       "      <td>1049</td>\n",
       "      <td>...</td>\n",
       "      <td>0</td>\n",
       "      <td>5</td>\n",
       "      <td>202</td>\n",
       "      <td>0</td>\n",
       "      <td>6</td>\n",
       "      <td>4</td>\n",
       "      <td>0</td>\n",
       "      <td>73</td>\n",
       "      <td>212</td>\n",
       "      <td>48</td>\n",
       "    </tr>\n",
       "    <tr>\n",
       "      <th>2</th>\n",
       "      <td>1</td>\n",
       "      <td>2013</td>\n",
       "      <td>2</td>\n",
       "      <td>0</td>\n",
       "      <td>190</td>\n",
       "      <td>11</td>\n",
       "      <td>866</td>\n",
       "      <td>0</td>\n",
       "      <td>4</td>\n",
       "      <td>1013</td>\n",
       "      <td>...</td>\n",
       "      <td>0</td>\n",
       "      <td>5</td>\n",
       "      <td>136</td>\n",
       "      <td>0</td>\n",
       "      <td>0</td>\n",
       "      <td>2</td>\n",
       "      <td>0</td>\n",
       "      <td>56</td>\n",
       "      <td>187</td>\n",
       "      <td>40</td>\n",
       "    </tr>\n",
       "    <tr>\n",
       "      <th>3</th>\n",
       "      <td>1</td>\n",
       "      <td>2014</td>\n",
       "      <td>2</td>\n",
       "      <td>0</td>\n",
       "      <td>141</td>\n",
       "      <td>8</td>\n",
       "      <td>794</td>\n",
       "      <td>0</td>\n",
       "      <td>8</td>\n",
       "      <td>828</td>\n",
       "      <td>...</td>\n",
       "      <td>1</td>\n",
       "      <td>1</td>\n",
       "      <td>117</td>\n",
       "      <td>0</td>\n",
       "      <td>0</td>\n",
       "      <td>2</td>\n",
       "      <td>0</td>\n",
       "      <td>40</td>\n",
       "      <td>181</td>\n",
       "      <td>22</td>\n",
       "    </tr>\n",
       "    <tr>\n",
       "      <th>4</th>\n",
       "      <td>1</td>\n",
       "      <td>2015</td>\n",
       "      <td>3</td>\n",
       "      <td>0</td>\n",
       "      <td>123</td>\n",
       "      <td>6</td>\n",
       "      <td>675</td>\n",
       "      <td>0</td>\n",
       "      <td>6</td>\n",
       "      <td>855</td>\n",
       "      <td>...</td>\n",
       "      <td>0</td>\n",
       "      <td>4</td>\n",
       "      <td>106</td>\n",
       "      <td>0</td>\n",
       "      <td>2</td>\n",
       "      <td>0</td>\n",
       "      <td>0</td>\n",
       "      <td>29</td>\n",
       "      <td>166</td>\n",
       "      <td>28</td>\n",
       "    </tr>\n",
       "  </tbody>\n",
       "</table>\n",
       "<p>5 rows × 35 columns</p>\n",
       "</div>"
      ],
      "text/plain": [
       "   community  year  STALKING  CONCEALED CARRY LICENSE VIOLATION  \\\n",
       "0          1  2011         4                                  0   \n",
       "1          1  2012         3                                  0   \n",
       "2          1  2013         2                                  0   \n",
       "3          1  2014         2                                  0   \n",
       "4          1  2015         3                                  0   \n",
       "\n",
       "   CRIMINAL TRESPASS  LIQUOR LAW VIOLATION  BATTERY  OTHER NARCOTIC VIOLATION  \\\n",
       "0                162                    14      994                         0   \n",
       "1                183                    21      991                         0   \n",
       "2                190                    11      866                         0   \n",
       "3                141                     8      794                         0   \n",
       "4                123                     6      675                         0   \n",
       "\n",
       "   HOMICIDE  THEFT           ...            NON-CRIMINAL  ARSON  ROBBERY  \\\n",
       "0         4   1135           ...                       0      7      251   \n",
       "1         6   1049           ...                       0      5      202   \n",
       "2         4   1013           ...                       0      5      136   \n",
       "3         8    828           ...                       1      1      117   \n",
       "4         6    855           ...                       0      4      106   \n",
       "\n",
       "   PUBLIC INDECENCY  GAMBLING  KIDNAPPING  NON-CRIMINAL (SUBJECT SPECIFIED)  \\\n",
       "0                 0         9           3                                 0   \n",
       "1                 0         6           4                                 0   \n",
       "2                 0         0           2                                 0   \n",
       "3                 0         0           2                                 0   \n",
       "4                 0         2           0                                 0   \n",
       "\n",
       "   WEAPONS VIOLATION  BURGLARY  PUBLIC PEACE VIOLATION  \n",
       "0                 43       258                      54  \n",
       "1                 73       212                      48  \n",
       "2                 56       187                      40  \n",
       "3                 40       181                      22  \n",
       "4                 29       166                      28  \n",
       "\n",
       "[5 rows x 35 columns]"
      ]
     },
     "execution_count": 1,
     "metadata": {},
     "output_type": "execute_result"
    }
   ],
   "source": [
    "import data_process\n",
    "crimedf = data_process.process_crime()\n",
    "crimedf.head(5)"
   ]
  },
  {
   "cell_type": "markdown",
   "metadata": {},
   "source": [
    "### 2.2 Real Estate dataset\n",
    "* Source: Redfin data center https://www.redfin.com/blog/data-center\n",
    "* Structure: Tabular, csv formated https://github.com/edgeslab/cs418-project-crime-pricers/blob/master/ppsf.csv\n",
    "* Granularity: Each record represents 1 community or neighborhood\n",
    "* Scope: Real estate data for 177 communities/neighborhoods in Chicago\n",
    "* Temporality: From February 2012 to present\n",
    "* Faithfulness: There are missing prices for some communities/neighborhoods. Names of communities and neigborhoods are mixed together\n",
    "#### Data cleaning: \n",
    "We used the geojson file (https://github.com/edgeslab/cs418-project-crime-pricers/blob/master/chicago_communities.geojson) to find out which one are communities in the first column of our csv file.\n",
    "For the other, we used Wikipedia (https://en.wikipedia.org/wiki/Community_areas_in_Chicago) to map neighborhoods to community. Our of total 77 communities in Chicago, we only have real estate data for 74 of them  \n",
    "We then group our data by community names, and take the average price.\n",
    "Finally we pivot our data to get the average price in a year.\n",
    "Fortunately, when we did all the mapping and averaging, the missing values were not in the selection.\n",
    "The final data frame represents average price per square foot for all 74 communities."
   ]
  },
  {
   "cell_type": "code",
   "execution_count": 2,
   "metadata": {},
   "outputs": [
    {
     "data": {
      "text/html": [
       "<div>\n",
       "<style scoped>\n",
       "    .dataframe tbody tr th:only-of-type {\n",
       "        vertical-align: middle;\n",
       "    }\n",
       "\n",
       "    .dataframe tbody tr th {\n",
       "        vertical-align: top;\n",
       "    }\n",
       "\n",
       "    .dataframe thead th {\n",
       "        text-align: right;\n",
       "    }\n",
       "</style>\n",
       "<table border=\"1\" class=\"dataframe\">\n",
       "  <thead>\n",
       "    <tr style=\"text-align: right;\">\n",
       "      <th>Community</th>\n",
       "      <th>year</th>\n",
       "      <th>albany park</th>\n",
       "      <th>archer heights</th>\n",
       "      <th>ashburn</th>\n",
       "      <th>auburn gresham</th>\n",
       "      <th>austin</th>\n",
       "      <th>avalon park</th>\n",
       "      <th>avondale</th>\n",
       "      <th>belmont cragin</th>\n",
       "      <th>beverly</th>\n",
       "      <th>...</th>\n",
       "      <th>washington heights</th>\n",
       "      <th>washington park</th>\n",
       "      <th>west elsdon</th>\n",
       "      <th>west englewood</th>\n",
       "      <th>west garfield park</th>\n",
       "      <th>west lawn</th>\n",
       "      <th>west pullman</th>\n",
       "      <th>west ridge</th>\n",
       "      <th>west town</th>\n",
       "      <th>woodlawn</th>\n",
       "    </tr>\n",
       "  </thead>\n",
       "  <tbody>\n",
       "    <tr>\n",
       "      <th>0</th>\n",
       "      <td>2012</td>\n",
       "      <td>91.727273</td>\n",
       "      <td>91.954545</td>\n",
       "      <td>86.954545</td>\n",
       "      <td>32.454545</td>\n",
       "      <td>33.781818</td>\n",
       "      <td>36.936364</td>\n",
       "      <td>91.727273</td>\n",
       "      <td>61.909091</td>\n",
       "      <td>130.745455</td>\n",
       "      <td>...</td>\n",
       "      <td>37.490909</td>\n",
       "      <td>22.481818</td>\n",
       "      <td>97.418182</td>\n",
       "      <td>10.654545</td>\n",
       "      <td>12.154545</td>\n",
       "      <td>89.572727</td>\n",
       "      <td>20.127273</td>\n",
       "      <td>68.590909</td>\n",
       "      <td>201.536364</td>\n",
       "      <td>38.063636</td>\n",
       "    </tr>\n",
       "    <tr>\n",
       "      <th>1</th>\n",
       "      <td>2013</td>\n",
       "      <td>114.033333</td>\n",
       "      <td>111.183333</td>\n",
       "      <td>92.608333</td>\n",
       "      <td>30.900000</td>\n",
       "      <td>42.591667</td>\n",
       "      <td>37.758333</td>\n",
       "      <td>121.175000</td>\n",
       "      <td>59.400000</td>\n",
       "      <td>129.033333</td>\n",
       "      <td>...</td>\n",
       "      <td>42.987500</td>\n",
       "      <td>25.833333</td>\n",
       "      <td>98.775000</td>\n",
       "      <td>10.608333</td>\n",
       "      <td>11.058333</td>\n",
       "      <td>95.866667</td>\n",
       "      <td>21.133333</td>\n",
       "      <td>84.816667</td>\n",
       "      <td>229.566667</td>\n",
       "      <td>42.183333</td>\n",
       "    </tr>\n",
       "    <tr>\n",
       "      <th>2</th>\n",
       "      <td>2014</td>\n",
       "      <td>134.991667</td>\n",
       "      <td>112.866667</td>\n",
       "      <td>102.333333</td>\n",
       "      <td>34.066667</td>\n",
       "      <td>51.466667</td>\n",
       "      <td>46.733333</td>\n",
       "      <td>157.891667</td>\n",
       "      <td>94.666667</td>\n",
       "      <td>149.700000</td>\n",
       "      <td>...</td>\n",
       "      <td>52.733333</td>\n",
       "      <td>28.383333</td>\n",
       "      <td>115.275000</td>\n",
       "      <td>11.525000</td>\n",
       "      <td>17.550000</td>\n",
       "      <td>108.741667</td>\n",
       "      <td>22.325000</td>\n",
       "      <td>108.525000</td>\n",
       "      <td>255.750000</td>\n",
       "      <td>50.325000</td>\n",
       "    </tr>\n",
       "    <tr>\n",
       "      <th>3</th>\n",
       "      <td>2015</td>\n",
       "      <td>159.850000</td>\n",
       "      <td>117.991667</td>\n",
       "      <td>112.333333</td>\n",
       "      <td>40.391667</td>\n",
       "      <td>56.958333</td>\n",
       "      <td>53.833333</td>\n",
       "      <td>172.941667</td>\n",
       "      <td>89.683333</td>\n",
       "      <td>148.775000</td>\n",
       "      <td>...</td>\n",
       "      <td>57.991667</td>\n",
       "      <td>36.466667</td>\n",
       "      <td>118.050000</td>\n",
       "      <td>11.333333</td>\n",
       "      <td>16.583333</td>\n",
       "      <td>118.200000</td>\n",
       "      <td>25.250000</td>\n",
       "      <td>123.741667</td>\n",
       "      <td>268.848333</td>\n",
       "      <td>50.891667</td>\n",
       "    </tr>\n",
       "    <tr>\n",
       "      <th>4</th>\n",
       "      <td>2016</td>\n",
       "      <td>165.791667</td>\n",
       "      <td>119.541667</td>\n",
       "      <td>121.966667</td>\n",
       "      <td>49.375000</td>\n",
       "      <td>63.708333</td>\n",
       "      <td>65.225000</td>\n",
       "      <td>187.491667</td>\n",
       "      <td>120.033333</td>\n",
       "      <td>150.050000</td>\n",
       "      <td>...</td>\n",
       "      <td>65.633333</td>\n",
       "      <td>36.191667</td>\n",
       "      <td>129.783333</td>\n",
       "      <td>17.091667</td>\n",
       "      <td>26.625000</td>\n",
       "      <td>125.875000</td>\n",
       "      <td>31.208333</td>\n",
       "      <td>124.641667</td>\n",
       "      <td>272.541667</td>\n",
       "      <td>68.975000</td>\n",
       "    </tr>\n",
       "  </tbody>\n",
       "</table>\n",
       "<p>5 rows × 75 columns</p>\n",
       "</div>"
      ],
      "text/plain": [
       "Community  year  albany park  archer heights     ashburn  auburn gresham  \\\n",
       "0          2012    91.727273       91.954545   86.954545       32.454545   \n",
       "1          2013   114.033333      111.183333   92.608333       30.900000   \n",
       "2          2014   134.991667      112.866667  102.333333       34.066667   \n",
       "3          2015   159.850000      117.991667  112.333333       40.391667   \n",
       "4          2016   165.791667      119.541667  121.966667       49.375000   \n",
       "\n",
       "Community     austin  avalon park    avondale  belmont cragin     beverly  \\\n",
       "0          33.781818    36.936364   91.727273       61.909091  130.745455   \n",
       "1          42.591667    37.758333  121.175000       59.400000  129.033333   \n",
       "2          51.466667    46.733333  157.891667       94.666667  149.700000   \n",
       "3          56.958333    53.833333  172.941667       89.683333  148.775000   \n",
       "4          63.708333    65.225000  187.491667      120.033333  150.050000   \n",
       "\n",
       "Community    ...      washington heights  washington park  west elsdon  \\\n",
       "0            ...               37.490909        22.481818    97.418182   \n",
       "1            ...               42.987500        25.833333    98.775000   \n",
       "2            ...               52.733333        28.383333   115.275000   \n",
       "3            ...               57.991667        36.466667   118.050000   \n",
       "4            ...               65.633333        36.191667   129.783333   \n",
       "\n",
       "Community  west englewood  west garfield park   west lawn  west pullman  \\\n",
       "0               10.654545           12.154545   89.572727     20.127273   \n",
       "1               10.608333           11.058333   95.866667     21.133333   \n",
       "2               11.525000           17.550000  108.741667     22.325000   \n",
       "3               11.333333           16.583333  118.200000     25.250000   \n",
       "4               17.091667           26.625000  125.875000     31.208333   \n",
       "\n",
       "Community  west ridge   west town   woodlawn  \n",
       "0           68.590909  201.536364  38.063636  \n",
       "1           84.816667  229.566667  42.183333  \n",
       "2          108.525000  255.750000  50.325000  \n",
       "3          123.741667  268.848333  50.891667  \n",
       "4          124.641667  272.541667  68.975000  \n",
       "\n",
       "[5 rows x 75 columns]"
      ]
     },
     "execution_count": 2,
     "metadata": {},
     "output_type": "execute_result"
    }
   ],
   "source": [
    "redf = data_process.process_realestate()\n",
    "redf.head(5)"
   ]
  },
  {
   "cell_type": "markdown",
   "metadata": {},
   "source": [
    "## 3. Visualizations\n",
    " \n",
    "### 3.1 A negative correlation: Crime drops, Price rises\n",
    "As we can see from the graph below, in the majority of communities in Chicago, there is a negative correlation between the number of crimes recorded and the average price per square foot in those communities. There are only a handful of communities that have almost zero or positive correlation. Communities that has positive correlation mostly has a high price of real estate. We guess that police is more present in these areas, as well as residents there tend to report more crimes. (We didn't consider the seriousness of crime types)\n",
    "![Correlation Graph](correlation_graph.png)\n",
    "\n",
    "### 3.2 Good news for real estate investors in Chicago: Price is on the rise\n",
    "As we can see from the graph below, Chicago real estate price is on the rise. The 1st quartile price, the median price and the 3rd quartile all increase through the year. However, we can't claim the reason is due to fall is crime alone because price rise can be attributed to multiple factors: inflation, the economy, the surrounding environment, .etc\n",
    "![RealEstate Graph](re_dist.png)"
   ]
  },
  {
   "cell_type": "markdown",
   "metadata": {},
   "source": [
    "## 4. Machine Learning models\n",
    "### 4.1 Regression\n",
    "Our goal is to find out if we can use crime data of the current year to predict the price of real estate in the upcoming year. In 3.1, we have seen most of the communities have a negative correlation between crime and real estate, so we thought a regression model in this case. Instead of having only the total count of crime, we used the count of top crime types to increase our features: battery, narcotics, motor theft, theft, .etc"
   ]
  },
  {
   "cell_type": "code",
   "execution_count": 9,
   "metadata": {},
   "outputs": [],
   "source": [
    "import pandas as pd\n",
    "import numpy as np\n",
    "mldf = pd.read_csv('ml_result.csv')\n",
    "data = mldf.values\n",
    "np.random.seed(100)\n",
    "np.random.shuffle(data)\n",
    "features = []\n",
    "prices = []\n",
    "for row in data:\n",
    "    features.append(row[2:12])\n",
    "    prices.append(row[13])\n",
    "numTrain = int(len(features)*.8)\n",
    "trainFeatures = features[:numTrain]\n",
    "testFeatures = features[numTrain:]\n",
    "trainPrices = prices[:numTrain]\n",
    "testPrices = prices[numTrain:]"
   ]
  },
  {
   "cell_type": "markdown",
   "metadata": {},
   "source": [
    "#### Support Vector Regression\n",
    "We tried SVR with polynomial kernel, and degree of 2"
   ]
  },
  {
   "cell_type": "code",
   "execution_count": 10,
   "metadata": {},
   "outputs": [
    {
     "data": {
      "text/plain": [
       "0.360633393942527"
      ]
     },
     "execution_count": 10,
     "metadata": {},
     "output_type": "execute_result"
    }
   ],
   "source": [
    "from sklearn.svm import SVR\n",
    "svr = SVR(gamma='scale', kernel='poly', degree=2)\n",
    "svr.fit(trainFeatures, trainPrices)\n",
    "svr.score(testFeatures, testPrices)"
   ]
  },
  {
   "cell_type": "markdown",
   "metadata": {},
   "source": [
    "#### Decision Tree Regression\n",
    "We tried Decision Tree Regressor with max depth of 10 (the number of our features)"
   ]
  },
  {
   "cell_type": "code",
   "execution_count": 11,
   "metadata": {},
   "outputs": [
    {
     "data": {
      "text/plain": [
       "0.7216070987146455"
      ]
     },
     "execution_count": 11,
     "metadata": {},
     "output_type": "execute_result"
    }
   ],
   "source": [
    "from sklearn.tree import DecisionTreeRegressor as DTR\n",
    "dtr = DTR(max_depth=10)\n",
    "dtr.fit(trainFeatures, trainPrices)\n",
    "dtr.score(testFeatures, testPrices)"
   ]
  },
  {
   "cell_type": "markdown",
   "metadata": {},
   "source": [
    "#### Neural Network Regression\n",
    "We tried Neural Network Regressor with 5 hidden layers and 10 nodes per layer"
   ]
  },
  {
   "cell_type": "code",
   "execution_count": 12,
   "metadata": {},
   "outputs": [
    {
     "name": "stderr",
     "output_type": "stream",
     "text": [
      "/anaconda3/lib/python3.7/site-packages/sklearn/neural_network/multilayer_perceptron.py:562: ConvergenceWarning: Stochastic Optimizer: Maximum iterations (200) reached and the optimization hasn't converged yet.\n",
      "  % self.max_iter, ConvergenceWarning)\n"
     ]
    },
    {
     "data": {
      "text/plain": [
       "0.35914058882685584"
      ]
     },
     "execution_count": 12,
     "metadata": {},
     "output_type": "execute_result"
    }
   ],
   "source": [
    "from sklearn.neural_network import MLPRegressor as NNR\n",
    "nnr = NNR(hidden_layer_sizes=(10,10,10,10,10))\n",
    "nnr.fit(trainFeatures, trainPrices)\n",
    "nnr.score(testFeatures, testPrices)"
   ]
  },
  {
   "cell_type": "markdown",
   "metadata": {},
   "source": [
    "As we can see from the scores above, Decision Tree Regressor achieves the best score (score of 1.0 is best). Below is the scatter plot of true prices and predicted prices by Decision Tree Regressor"
   ]
  },
  {
   "cell_type": "code",
   "execution_count": 17,
   "metadata": {},
   "outputs": [
    {
     "name": "stderr",
     "output_type": "stream",
     "text": [
      "/anaconda3/lib/python3.7/site-packages/scipy/stats/stats.py:1713: FutureWarning: Using a non-tuple sequence for multidimensional indexing is deprecated; use `arr[tuple(seq)]` instead of `arr[seq]`. In the future this will be interpreted as an array index, `arr[np.array(seq)]`, which will result either in an error or a different result.\n",
      "  return np.add.reduce(sorted[indexer] * weights, axis=axis) / sumval\n"
     ]
    },
    {
     "data": {
      "text/plain": [
       "Text(0.5, 1.0, 'Scatter plot of True prices and Predicted prices by Decision Tree Regressor')"
      ]
     },
     "execution_count": 17,
     "metadata": {},
     "output_type": "execute_result"
    },
    {
     "data": {
      "image/png": "[encoded data removed]",
      "text/plain": [
       "<Figure size 576x576 with 1 Axes>"
      ]
     },
     "metadata": {
      "needs_background": "light"
     },
     "output_type": "display_data"
    }
   ],
   "source": [
    "import seaborn as sns\n",
    "import matplotlib.pyplot as plt\n",
    "pred_prices = dtr.predict(features)\n",
    "dat = pd.DataFrame({'True prices':prices, 'Predicted prices': pred_prices})\n",
    "sns.regplot(x='True prices', y='Predicted prices', data=dat)\n",
    "plt.gca().set_aspect('equal', adjustable='box')\n",
    "plt.xlim((0,350))\n",
    "plt.ylim((0,350))\n",
    "plt.gcf().set_size_inches(8, 8)\n",
    "plt.title(\"Scatter plot of True prices and Predicted prices by Decision Tree Regressor\")"
   ]
  },
  {
   "cell_type": "markdown",
   "metadata": {},
   "source": [
    "### 4.2 Classification\n",
    "\n",
    "Since we attempted to build up regression model to capture potential relationship between crime frequencies in Chicago area with house sale price, but we didn't find sound regression results because house sale price will be predicted better if we consider population, socioeconomic and employment factor. However, regression model didn't produce satisfactory results in our analysis, we are transforming the problem to binary classification problem.\n",
    "\n",
    "The intuition behind using classification approach is pretty straightforward. We are expecting to see whether monthly house sale price of each community area over the year is dropped or decreased respect to yearly average sale price in Chicago. Thus, we aggregate Redfin real estate data to get monthly price change of each community along the years and compare it with annual average sale price in Chicago, which give us binary label 1 as price increased, 0 as price dropped. We selected several state of art classification models to perform binary classification.\n"
   ]
  },
  {
   "cell_type": "code",
   "execution_count": 13,
   "metadata": {},
   "outputs": [],
   "source": [
    "from sklearn.linear_model import Perceptron\n",
    "from sklearn.svm import SVC\n",
    "from sklearn.linear_model import LogisticRegression\n",
    "from sklearn.naive_bayes import MultinomialNB\n",
    "from sklearn.linear_model import SGDClassifier\n",
    "from sklearn.model_selection import train_test_split\n",
    "from sklearn.pipeline import Pipeline\n",
    "from sklearn.metrics import classification_report, f1_score, accuracy_score"
   ]
  },
  {
   "cell_type": "code",
   "execution_count": 23,
   "metadata": {},
   "outputs": [
    {
     "data": {
      "text/plain": [
       "[('LogisticRegression', 0.6037735849056604),\n",
       " ('MultinomialNB', 0.4339622641509434),\n",
       " ('SGDClassifier', 0.4528301886792453),\n",
       " ('SVC', 0.4716981132075472)]"
      ]
     },
     "execution_count": 23,
     "metadata": {},
     "output_type": "execute_result"
    }
   ],
   "source": [
    "binary_clf_feats = pd.read_csv('binary_cls_feats').drop('Unnamed: 0', axis=1)\n",
    "X_feats=binary_clf_feats.iloc[:, 2:11,].values\n",
    "y_label=binary_clf_feats['price_status'].values\n",
    "X_train, X_test, y_train, y_test = train_test_split(X_feats, y_label, test_size = 0.2, random_state = np.random.seed(234))\n",
    "\n",
    "_RANDOM_STATE_V = 45\n",
    "models = [LogisticRegression, MultinomialNB, SGDClassifier, SVC]\n",
    "\n",
    "def trainModels(Xtr, Ytr, Xte, Yte, verbose= True):\n",
    "    report_list = list()\n",
    "    for index, model in enumerate(models):\n",
    "        classifier = Pipeline([('clf', model()),])\n",
    "        if verbose:\n",
    "            print('Training {0}'.format(model.__name__))\n",
    "        classifier.fit(Xtr, Ytr)\n",
    "        pred = classifier.predict(Xte)\n",
    "        if verbose:\n",
    "            print('Accuracy: ', accuracy_score(pred,Yte))\n",
    "            print(classification_report(pred, Yte))\n",
    "        report_list.append((model.__name__, accuracy_score(pred,Yte)))\n",
    "    if verbose:\n",
    "        for e in report_list:\n",
    "            print('{0}: {1}'.format(e[0], e[1]))          \n",
    "    return report_list\n",
    "\n",
    "trainModels(X_train, y_train, X_test, y_test, verbose= False)"
   ]
  },
  {
   "cell_type": "code",
   "execution_count": 32,
   "metadata": {},
   "outputs": [
    {
     "data": {
      "image/png": "[encoded data removed]",
      "text/plain": [
       "<Figure size 576x432 with 1 Axes>"
      ]
     },
     "metadata": {
      "needs_background": "light"
     },
     "output_type": "display_data"
    }
   ],
   "source": [
    "np.random.seed(42)\n",
    "from sklearn.metrics import roc_auc_score, roc_curve\n",
    "\n",
    "# Logistic regression\n",
    "lr_clf = LogisticRegression()\n",
    "lr_clf.fit(X_train, y_train)\n",
    "lr_prediction_proba = lr_clf.predict_proba(X_test)[:, 1]\n",
    "\n",
    "# Multinomial NB\n",
    "nb_clf = MultinomialNB()\n",
    "nb_clf.fit(X_train, y_train)\n",
    "nb_prediction_proba = nb_clf.predict_proba(X_test)[:, 1]\n",
    "\n",
    "## SGD classifier\n",
    "sgd_clf = SGDClassifier(loss='log')\n",
    "sgd_clf.fit(X_train, y_train)\n",
    "sgd_prediction_proba = sgd_clf.predict_proba(X_test)[:, 1]\n",
    "\n",
    "def roc_curve_and_score(y_test, pred_proba):\n",
    "    fpr, tpr, _ = roc_curve(y_test.ravel(), pred_proba.ravel())\n",
    "    roc_auc = roc_auc_score(y_test.ravel(), pred_proba.ravel())\n",
    "    return fpr, tpr, roc_auc\n",
    "\n",
    "plt.figure(figsize=(8, 6))\n",
    "matplotlib.rcParams.update({'font.size': 10})\n",
    "plt.grid()\n",
    "fpr, tpr, roc_auc = roc_curve_and_score(y_test, lr_prediction_proba)\n",
    "plt.plot(fpr, tpr, color='cyan', lw=3, label='Logistic Regression ROC AUC={0:.3f}'.format(roc_auc))\n",
    "\n",
    "fpr, tpr, roc_auc = roc_curve_and_score(y_test, nb_prediction_proba)\n",
    "plt.plot(fpr, tpr, color='green', lw=3, label='Naive Bayes ROC AUC={0:.3f}'.format(roc_auc))\n",
    "\n",
    "fpr, tpr, roc_auc = roc_curve_and_score(y_test, sgd_prediction_proba)\n",
    "plt.plot(fpr, tpr, color='yellow', lw=3, label='SGD classifier ROC AUC={0:.3f}'.format(roc_auc))\n",
    "\n",
    "plt.plot([0, 1], [0, 1], color='navy', lw=1.5, linestyle='--')\n",
    "plt.legend(loc=\"lower right\")\n",
    "plt.xlim([0.0, 1.0])\n",
    "plt.ylim([0.0, 1.05])\n",
    "plt.xlabel('1 - Specificity')\n",
    "plt.ylabel('Sensitivity')\n",
    "plt.show()"
   ]
  },
  {
   "cell_type": "markdown",
   "metadata": {},
   "source": [
    "## 5. Interactive Data Exploration\n",
    "**Instruction to run the app**: https://github.com/edgeslab/cs418-project-crime-pricers/blob/master/README.md  \n",
    "We developed an interactive data exploration app that allowed users to explore real estate and crime data by community. On the top left, we have a heatmap of price data, where the lighter the color, the more expensive price per square foot in that community. Oppositely, the darker the color, the cheaper the price. Users can use the year slider to see how the price heatmap changes over time. Users can also use the price range slider to filter out communities in a certain price range. The top right scatter plot depicts price and total number of crimes in a community, each dot represents a community. In addition, user can click on 1 community in the heatmap, and it will be highlighted in the scatter plot, as well as its crime trend and real estate trend will be shown on the 2 bottom time series graphs\n",
    "<img src='app_images/crime&realEstate.PNG' width='700' />\n",
    "Below is the crime exploration part. Here, crime is broken down into crime types. Users can select 1 or multiple crime types, and see their trend in the graph below.\n",
    "<img src='app_images/crime_line.PNG' width='700' />"
   ]
  },
  {
   "cell_type": "markdown",
   "metadata": {},
   "source": [
    "## 6. Results\n",
    "After analyzing Chicago's crime and real estate data by communities from 2012 to 2018, as well as trying to build models that can predict prices in the future, or classify communities into rising price and dropping price regions, we've come to the following conclusions:  \n",
    "* For most of communities in Chicago, there is a negative correlation between crime drop and price rise. There are reasons for this to happen: Chicago population is decreasing, resulted in falling number of crime. And real estate price rising may be attributed to inflation and other economic factors.\n",
    "* Even though there is the negative correlation, it's hard to predict future real estate prices based on current crime data. Our Decision Tree Regression model may have scored 0.72 out of 1, it may lead to overfitting and we're not certain about our prediction. This can be explained that real estate price model is very complex, with multiple attributing factors: economy, environment, policy, education, .etc. Here, we only explored the effect of crime data. In addition, the recording of crime data may not be consistent throughout all communities, some communities tend to report crime more regularly than the other, and we didn't consider the seriousness of crime types. On top of that, we were using average price per square foot for each community, which were very coarse, because in a community, you could have an area with high price and other lower price areas.\n",
    "* With the same reasons, our classifier also didn't do well with its task. The highest score achieve by Logistic Regression with only 60% accuracy.\n",
    "* However, in this project, we managed to create an interactive data visualization app, that users can explore trend in real estate and crime, which eventually will help them to make a good decision on their purchase.\n",
    "* In future projects, if we ever have a more finer data level, such as block level crime and real estate data, we hope that we can build a better predicting and classifying models."
   ]
  }
 ],
 "metadata": {
  "kernelspec": {
   "display_name": "Python 3",
   "language": "python",
   "name": "python3"
  },
  "language_info": {
   "codemirror_mode": {
    "name": "ipython",
    "version": 3
   },
   "file_extension": ".py",
   "mimetype": "text/x-python",
   "name": "python",
   "nbconvert_exporter": "python",
   "pygments_lexer": "ipython3",
   "version": "3.7.1"
  }
 },
 "nbformat": 4,
 "nbformat_minor": 2
}
